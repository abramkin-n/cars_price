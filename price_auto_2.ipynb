{
 "cells": [
  {
   "cell_type": "markdown",
   "id": "d44fb420",
   "metadata": {
    "toc": true
   },
   "source": [
    "<h1>Table of Contents<span class=\"tocSkip\"></span></h1>\n",
    "<div class=\"toc\"><ul class=\"toc-item\"><li><span><a href=\"#Загрузка-и-подготовка-данных\" data-toc-modified-id=\"Загрузка-и-подготовка-данных-1\"><span class=\"toc-item-num\">1&nbsp;&nbsp;</span>Загрузка и подготовка данных</a></span></li><li><span><a href=\"#Знакомство-с-данными\" data-toc-modified-id=\"Знакомство-с-данными-2\"><span class=\"toc-item-num\">2&nbsp;&nbsp;</span>Знакомство с данными</a></span><ul class=\"toc-item\"><li><span><a href=\"#Обработка-пропусков\" data-toc-modified-id=\"Обработка-пропусков-2.1\"><span class=\"toc-item-num\">2.1&nbsp;&nbsp;</span>Обработка пропусков</a></span></li></ul></li><li><span><a href=\"#Исследовательский-анализ-данных\" data-toc-modified-id=\"Исследовательский-анализ-данных-3\"><span class=\"toc-item-num\">3&nbsp;&nbsp;</span>Исследовательский анализ данных</a></span><ul class=\"toc-item\"><li><span><a href=\"#Рассмотрение-признаков:\" data-toc-modified-id=\"Рассмотрение-признаков:-3.1\"><span class=\"toc-item-num\">3.1&nbsp;&nbsp;</span>Рассмотрение признаков:</a></span><ul class=\"toc-item\"><li><span><a href=\"#Рассмотим-данные-столбца-saledate-(дата-продажи-автомобиля):\" data-toc-modified-id=\"Рассмотим-данные-столбца-saledate-(дата-продажи-автомобиля):-3.1.1\"><span class=\"toc-item-num\">3.1.1&nbsp;&nbsp;</span>Рассмотим данные столбца <code>saledate</code> (дата продажи автомобиля):</a></span></li><li><span><a href=\"#Рассмотим-данные-столбца-year-(год-выпуска-автомобиля):\" data-toc-modified-id=\"Рассмотим-данные-столбца-year-(год-выпуска-автомобиля):-3.1.2\"><span class=\"toc-item-num\">3.1.2&nbsp;&nbsp;</span>Рассмотим данные столбца <code>year</code> (год выпуска автомобиля):</a></span></li><li><span><a href=\"#Рассмотим-данные-столбца-make-(марка-автомобиля):\" data-toc-modified-id=\"Рассмотим-данные-столбца-make-(марка-автомобиля):-3.1.3\"><span class=\"toc-item-num\">3.1.3&nbsp;&nbsp;</span>Рассмотим данные столбца <code>make</code> (марка автомобиля):</a></span></li><li><span><a href=\"#Рассмотим-данные-столбца-model-(модель-автомобиля):\" data-toc-modified-id=\"Рассмотим-данные-столбца-model-(модель-автомобиля):-3.1.4\"><span class=\"toc-item-num\">3.1.4&nbsp;&nbsp;</span>Рассмотим данные столбца <code>model</code> (модель автомобиля):</a></span></li><li><span><a href=\"#Рассмотим-данные-столбца-trim-(версии-модели-автомобиля):\" data-toc-modified-id=\"Рассмотим-данные-столбца-trim-(версии-модели-автомобиля):-3.1.5\"><span class=\"toc-item-num\">3.1.5&nbsp;&nbsp;</span>Рассмотим данные столбца <code>trim</code> (версии модели автомобиля):</a></span></li><li><span><a href=\"#Рассмотим-данные-столбца-body-(тип-кузова-транспортного-средства):\" data-toc-modified-id=\"Рассмотим-данные-столбца-body-(тип-кузова-транспортного-средства):-3.1.6\"><span class=\"toc-item-num\">3.1.6&nbsp;&nbsp;</span>Рассмотим данные столбца <code>body</code> (тип кузова транспортного средства):</a></span></li><li><span><a href=\"#Рассмотим-данные-столбца-transmission-(коробка-передач):\" data-toc-modified-id=\"Рассмотим-данные-столбца-transmission-(коробка-передач):-3.1.7\"><span class=\"toc-item-num\">3.1.7&nbsp;&nbsp;</span>Рассмотим данные столбца <code>transmission</code> (коробка передач):</a></span></li><li><span><a href=\"#Рассмотим-данные-столбца-state-(название-штата):\" data-toc-modified-id=\"Рассмотим-данные-столбца-state-(название-штата):-3.1.8\"><span class=\"toc-item-num\">3.1.8&nbsp;&nbsp;</span>Рассмотим данные столбца <code>state</code> (название штата):</a></span></li><li><span><a href=\"#Рассмотим-данные-столбца-condition-(cостояние-автомобилей-на-момент-аукциона):\" data-toc-modified-id=\"Рассмотим-данные-столбца-condition-(cостояние-автомобилей-на-момент-аукциона):-3.1.9\"><span class=\"toc-item-num\">3.1.9&nbsp;&nbsp;</span>Рассмотим данные столбца <code>condition</code> (cостояние автомобилей на момент аукциона):</a></span></li><li><span><a href=\"#Рассмотим-данные-столбца-odometer-(расстояние,-пройденное-автомобилем-с-момента-выпуска):\" data-toc-modified-id=\"Рассмотим-данные-столбца-odometer-(расстояние,-пройденное-автомобилем-с-момента-выпуска):-3.1.10\"><span class=\"toc-item-num\">3.1.10&nbsp;&nbsp;</span>Рассмотим данные столбца <code>odometer</code> (расстояние, пройденное автомобилем с момента выпуска):</a></span></li><li><span><a href=\"#Рассмотим-данные-столбца-color-(цвет-кузова-автомобиля):\" data-toc-modified-id=\"Рассмотим-данные-столбца-color-(цвет-кузова-автомобиля):-3.1.11\"><span class=\"toc-item-num\">3.1.11&nbsp;&nbsp;</span>Рассмотим данные столбца <code>color</code> (цвет кузова автомобиля):</a></span></li><li><span><a href=\"#Рассмотим-данные-столбца-interior-(цвет-салона-автомобиля):\" data-toc-modified-id=\"Рассмотим-данные-столбца-interior-(цвет-салона-автомобиля):-3.1.12\"><span class=\"toc-item-num\">3.1.12&nbsp;&nbsp;</span>Рассмотим данные столбца <code>interior</code> (цвет салона автомобиля):</a></span></li><li><span><a href=\"#Рассмотим-данные-столбца-sellingprice-(цена,-по-которой-автомобиль-был-продан-на-аукционе):\" data-toc-modified-id=\"Рассмотим-данные-столбца-sellingprice-(цена,-по-которой-автомобиль-был-продан-на-аукционе):-3.1.13\"><span class=\"toc-item-num\">3.1.13&nbsp;&nbsp;</span>Рассмотим данные столбца <code>sellingprice</code> (цена, по которой автомобиль был продан на аукционе):</a></span></li></ul></li><li><span><a href=\"#Создание-новых-признаков\" data-toc-modified-id=\"Создание-новых-признаков-3.2\"><span class=\"toc-item-num\">3.2&nbsp;&nbsp;</span>Создание новых признаков</a></span></li><li><span><a href=\"#Матрица-корреляции\" data-toc-modified-id=\"Матрица-корреляции-3.3\"><span class=\"toc-item-num\">3.3&nbsp;&nbsp;</span>Матрица корреляции</a></span></li></ul></li><li><span><a href=\"#Оптимизация-используемой-памяти\" data-toc-modified-id=\"Оптимизация-используемой-памяти-4\"><span class=\"toc-item-num\">4&nbsp;&nbsp;</span>Оптимизация используемой памяти</a></span></li><li><span><a href=\"#Обучение-моделей\" data-toc-modified-id=\"Обучение-моделей-5\"><span class=\"toc-item-num\">5&nbsp;&nbsp;</span>Обучение моделей</a></span><ul class=\"toc-item\"><li><span><a href=\"#Приведение-тестовой-выборки-в-соответствии-с-тренировочной:\" data-toc-modified-id=\"Приведение-тестовой-выборки-в-соответствии-с-тренировочной:-5.1\"><span class=\"toc-item-num\">5.1&nbsp;&nbsp;</span>Приведение тестовой выборки в соответствии с тренировочной:</a></span></li><li><span><a href=\"#Преобразование-признаков:\" data-toc-modified-id=\"Преобразование-признаков:-5.2\"><span class=\"toc-item-num\">5.2&nbsp;&nbsp;</span>Преобразование признаков:</a></span></li><li><span><a href=\"#Построим-модель-LinearRegression:\" data-toc-modified-id=\"Построим-модель-LinearRegression:-5.3\"><span class=\"toc-item-num\">5.3&nbsp;&nbsp;</span>Построим модель <code>LinearRegression</code>:</a></span></li><li><span><a href=\"#Построим-модель-LGBMRegressor:\" data-toc-modified-id=\"Построим-модель-LGBMRegressor:-5.4\"><span class=\"toc-item-num\">5.4&nbsp;&nbsp;</span>Построим модель <code>LGBMRegressor</code>:</a></span></li><li><span><a href=\"#Построим-модель-CatBoostRegressor:\" data-toc-modified-id=\"Построим-модель-CatBoostRegressor:-5.5\"><span class=\"toc-item-num\">5.5&nbsp;&nbsp;</span>Построим модель <code>CatBoostRegressor</code>:</a></span></li></ul></li><li><span><a href=\"#Важность-признаков\" data-toc-modified-id=\"Важность-признаков-6\"><span class=\"toc-item-num\">6&nbsp;&nbsp;</span>Важность признаков</a></span></li><li><span><a href=\"#Тестирование-модели\" data-toc-modified-id=\"Тестирование-модели-7\"><span class=\"toc-item-num\">7&nbsp;&nbsp;</span>Тестирование модели</a></span><ul class=\"toc-item\"><li><span><a href=\"#Построим-модель-RandomForestRegressor:\" data-toc-modified-id=\"Построим-модель-RandomForestRegressor:-7.1\"><span class=\"toc-item-num\">7.1&nbsp;&nbsp;</span>Построим модель <code>RandomForestRegressor</code>:</a></span></li></ul></li></ul></div>"
   ]
  },
  {
   "cell_type": "markdown",
   "id": "a210106d",
   "metadata": {},
   "source": [
    "# Описание проекта:"
   ]
  },
  {
   "cell_type": "code",
   "execution_count": 1,
   "id": "cb783236",
   "metadata": {},
   "outputs": [
    {
     "name": "stdout",
     "output_type": "stream",
     "text": [
      "Requirement already satisfied: vin_decoder in /Applications/anaconda3/lib/python3.9/site-packages (0.1.1)\n",
      "Collecting argparse (from vin_decoder)\n",
      "  Using cached argparse-1.4.0-py2.py3-none-any.whl (23 kB)\n",
      "Requirement already satisfied: nose in /Applications/anaconda3/lib/python3.9/site-packages (from vin_decoder) (1.3.7)\n",
      "Installing collected packages: argparse\n",
      "Successfully installed argparse-1.4.0\n"
     ]
    }
   ],
   "source": [
    "!pip install vin_decoder"
   ]
  },
  {
   "cell_type": "markdown",
   "id": "1cac52d3",
   "metadata": {},
   "source": [
    "### Загрузка и подготовка данных"
   ]
  },
  {
   "cell_type": "code",
   "execution_count": 2,
   "id": "1f1c4360",
   "metadata": {},
   "outputs": [],
   "source": [
    "import pandas as pd\n",
    "import matplotlib.pyplot as plt\n",
    "import numpy as np\n",
    "import seaborn as sns\n",
    "import warnings\n",
    "import time\n",
    "from vininfo import Vin\n",
    "\n",
    "from datetime import datetime\n",
    "from phik import phik_matrix\n",
    "from scipy.stats import zscore\n",
    "from scipy.stats import iqr\n",
    "\n",
    "from sklearn.model_selection import (train_test_split, \n",
    "                                     GridSearchCV)\n",
    "\n",
    "from sklearn.preprocessing import LabelEncoder\n",
    "from sklearn.linear_model import LinearRegression, Ridge, Lasso\n",
    "from sklearn.ensemble import RandomForestRegressor\n",
    "from catboost import CatBoostRegressor\n",
    "from lightgbm import LGBMRegressor\n",
    "import xgboost as xgb\n",
    "from sklearn.dummy import DummyRegressor\n",
    "from sklearn.preprocessing import OrdinalEncoder \n",
    "#from sklearn.ensemble import RandomForestClassifier\n",
    "from sklearn.preprocessing import StandardScaler\n",
    "    \n",
    "from sklearn.metrics import (confusion_matrix,\n",
    "                             make_scorer)\n",
    "\n",
    "pd.set_option('display.max_columns', None)\n",
    "pd.set_option('display.max_rows', None)\n",
    "warnings.filterwarnings('ignore')\n",
    "%matplotlib inline"
   ]
  },
  {
   "cell_type": "code",
   "execution_count": 3,
   "id": "9427ece5",
   "metadata": {},
   "outputs": [],
   "source": [
    "#try:\n",
    "df = pd.read_csv('train.csv')\n",
    "df_test = pd.read_csv('test.csv')\n",
    "sample_submission = pd.read_csv('sample_submission.csv')\n",
    "test = df_test.copy()\n",
    "# except:\n",
    "#     contract = pd.read_csv('kaggle competitions download -c used-cars-price-prediction-22ds')\n",
    "#     personal = pd.read_csv('https://code.s3.yandex.net/datasets/personal_new.csv')\n",
    "#     internet = pd.read_csv('https://code.s3.yandex.net/datasets/internet_new.csv')"
   ]
  },
  {
   "cell_type": "code",
   "execution_count": 4,
   "id": "09b8201f",
   "metadata": {},
   "outputs": [
    {
     "data": {
      "text/plain": [
       "110058"
      ]
     },
     "execution_count": 4,
     "metadata": {},
     "output_type": "execute_result"
    }
   ],
   "source": [
    "test.shape[0]"
   ]
  },
  {
   "cell_type": "code",
   "execution_count": 5,
   "id": "2ab2468a",
   "metadata": {},
   "outputs": [
    {
     "data": {
      "text/plain": [
       "year                0\n",
       "make             2061\n",
       "model            2079\n",
       "trim             2114\n",
       "body             2594\n",
       "transmission    13011\n",
       "vin                 0\n",
       "state               0\n",
       "condition        2379\n",
       "odometer           19\n",
       "color             158\n",
       "interior          158\n",
       "seller              0\n",
       "saledate            0\n",
       "dtype: int64"
      ]
     },
     "execution_count": 5,
     "metadata": {},
     "output_type": "execute_result"
    }
   ],
   "source": [
    "df_test.isna().sum()"
   ]
  },
  {
   "cell_type": "code",
   "execution_count": 6,
   "id": "3ddc8663",
   "metadata": {
    "scrolled": true
   },
   "outputs": [
    {
     "data": {
      "text/html": [
       "<div>\n",
       "<style scoped>\n",
       "    .dataframe tbody tr th:only-of-type {\n",
       "        vertical-align: middle;\n",
       "    }\n",
       "\n",
       "    .dataframe tbody tr th {\n",
       "        vertical-align: top;\n",
       "    }\n",
       "\n",
       "    .dataframe thead th {\n",
       "        text-align: right;\n",
       "    }\n",
       "</style>\n",
       "<table border=\"1\" class=\"dataframe\">\n",
       "  <thead>\n",
       "    <tr style=\"text-align: right;\">\n",
       "      <th></th>\n",
       "      <th>vin</th>\n",
       "      <th>sellingprice</th>\n",
       "    </tr>\n",
       "  </thead>\n",
       "  <tbody>\n",
       "    <tr>\n",
       "      <th>0</th>\n",
       "      <td>1g6dp567450124779</td>\n",
       "      <td>13592.209588</td>\n",
       "    </tr>\n",
       "    <tr>\n",
       "      <th>1</th>\n",
       "      <td>1gtw7fca7e1902207</td>\n",
       "      <td>13592.209588</td>\n",
       "    </tr>\n",
       "  </tbody>\n",
       "</table>\n",
       "</div>"
      ],
      "text/plain": [
       "                 vin  sellingprice\n",
       "0  1g6dp567450124779  13592.209588\n",
       "1  1gtw7fca7e1902207  13592.209588"
      ]
     },
     "execution_count": 6,
     "metadata": {},
     "output_type": "execute_result"
    }
   ],
   "source": [
    "sample_submission.head(2)"
   ]
  },
  {
   "cell_type": "markdown",
   "id": "ed54c737",
   "metadata": {},
   "source": [
    "### Знакомство с данными"
   ]
  },
  {
   "cell_type": "code",
   "execution_count": 7,
   "id": "b04ec8f6",
   "metadata": {},
   "outputs": [],
   "source": [
    "def info(data):\n",
    "    display(data.head())\n",
    "    display(data.info(memory_usage=True))\n",
    "    print(20 * '-' + 'Описание данных' + 20 * '-')\n",
    "    display(data.describe(include='all'))\n",
    "    print(20 * '-' + 'Количество пропусков' + 20 * '-')\n",
    "    display(data.isna().sum())\n",
    "    print(20 * '-' + 'Количество дубликатов' + 20 * '-')\n",
    "    display(data.duplicated().sum())"
   ]
  },
  {
   "cell_type": "code",
   "execution_count": 8,
   "id": "43d13d4b",
   "metadata": {
    "scrolled": false
   },
   "outputs": [
    {
     "data": {
      "text/html": [
       "<div>\n",
       "<style scoped>\n",
       "    .dataframe tbody tr th:only-of-type {\n",
       "        vertical-align: middle;\n",
       "    }\n",
       "\n",
       "    .dataframe tbody tr th {\n",
       "        vertical-align: top;\n",
       "    }\n",
       "\n",
       "    .dataframe thead th {\n",
       "        text-align: right;\n",
       "    }\n",
       "</style>\n",
       "<table border=\"1\" class=\"dataframe\">\n",
       "  <thead>\n",
       "    <tr style=\"text-align: right;\">\n",
       "      <th></th>\n",
       "      <th>year</th>\n",
       "      <th>make</th>\n",
       "      <th>model</th>\n",
       "      <th>trim</th>\n",
       "      <th>body</th>\n",
       "      <th>transmission</th>\n",
       "      <th>vin</th>\n",
       "      <th>state</th>\n",
       "      <th>condition</th>\n",
       "      <th>odometer</th>\n",
       "      <th>color</th>\n",
       "      <th>interior</th>\n",
       "      <th>seller</th>\n",
       "      <th>sellingprice</th>\n",
       "      <th>saledate</th>\n",
       "    </tr>\n",
       "  </thead>\n",
       "  <tbody>\n",
       "    <tr>\n",
       "      <th>0</th>\n",
       "      <td>2011</td>\n",
       "      <td>Ford</td>\n",
       "      <td>Edge</td>\n",
       "      <td>SEL</td>\n",
       "      <td>suv</td>\n",
       "      <td>automatic</td>\n",
       "      <td>2fmdk3jc4bba41556</td>\n",
       "      <td>md</td>\n",
       "      <td>4.2</td>\n",
       "      <td>111041.0</td>\n",
       "      <td>black</td>\n",
       "      <td>black</td>\n",
       "      <td>santander consumer</td>\n",
       "      <td>12500</td>\n",
       "      <td>Tue Jun 02 2015 02:30:00 GMT-0700 (PDT)</td>\n",
       "    </tr>\n",
       "    <tr>\n",
       "      <th>1</th>\n",
       "      <td>2014</td>\n",
       "      <td>Ford</td>\n",
       "      <td>Fusion</td>\n",
       "      <td>SE</td>\n",
       "      <td>Sedan</td>\n",
       "      <td>automatic</td>\n",
       "      <td>3fa6p0h75er208976</td>\n",
       "      <td>mo</td>\n",
       "      <td>3.5</td>\n",
       "      <td>31034.0</td>\n",
       "      <td>black</td>\n",
       "      <td>black</td>\n",
       "      <td>ars/avis budget group</td>\n",
       "      <td>14500</td>\n",
       "      <td>Wed Feb 25 2015 02:00:00 GMT-0800 (PST)</td>\n",
       "    </tr>\n",
       "    <tr>\n",
       "      <th>2</th>\n",
       "      <td>2012</td>\n",
       "      <td>Nissan</td>\n",
       "      <td>Sentra</td>\n",
       "      <td>2.0 SL</td>\n",
       "      <td>sedan</td>\n",
       "      <td>automatic</td>\n",
       "      <td>3n1ab6ap4cl698412</td>\n",
       "      <td>nj</td>\n",
       "      <td>2.2</td>\n",
       "      <td>35619.0</td>\n",
       "      <td>black</td>\n",
       "      <td>black</td>\n",
       "      <td>nissan-infiniti lt</td>\n",
       "      <td>9100</td>\n",
       "      <td>Wed Jun 10 2015 02:30:00 GMT-0700 (PDT)</td>\n",
       "    </tr>\n",
       "    <tr>\n",
       "      <th>3</th>\n",
       "      <td>2003</td>\n",
       "      <td>HUMMER</td>\n",
       "      <td>H2</td>\n",
       "      <td>Base</td>\n",
       "      <td>suv</td>\n",
       "      <td>automatic</td>\n",
       "      <td>5grgn23u93h101360</td>\n",
       "      <td>tx</td>\n",
       "      <td>2.8</td>\n",
       "      <td>131301.0</td>\n",
       "      <td>gold</td>\n",
       "      <td>beige</td>\n",
       "      <td>wichita falls ford lin inc</td>\n",
       "      <td>13300</td>\n",
       "      <td>Wed Jun 17 2015 03:00:00 GMT-0700 (PDT)</td>\n",
       "    </tr>\n",
       "    <tr>\n",
       "      <th>4</th>\n",
       "      <td>2007</td>\n",
       "      <td>Ford</td>\n",
       "      <td>Fusion</td>\n",
       "      <td>SEL</td>\n",
       "      <td>Sedan</td>\n",
       "      <td>automatic</td>\n",
       "      <td>3fahp08z17r268380</td>\n",
       "      <td>md</td>\n",
       "      <td>2.0</td>\n",
       "      <td>127709.0</td>\n",
       "      <td>black</td>\n",
       "      <td>black</td>\n",
       "      <td>purple heart</td>\n",
       "      <td>1300</td>\n",
       "      <td>Tue Feb 03 2015 04:00:00 GMT-0800 (PST)</td>\n",
       "    </tr>\n",
       "  </tbody>\n",
       "</table>\n",
       "</div>"
      ],
      "text/plain": [
       "   year    make   model    trim   body transmission                vin state  \\\n",
       "0  2011    Ford    Edge     SEL    suv    automatic  2fmdk3jc4bba41556    md   \n",
       "1  2014    Ford  Fusion      SE  Sedan    automatic  3fa6p0h75er208976    mo   \n",
       "2  2012  Nissan  Sentra  2.0 SL  sedan    automatic  3n1ab6ap4cl698412    nj   \n",
       "3  2003  HUMMER      H2    Base    suv    automatic  5grgn23u93h101360    tx   \n",
       "4  2007    Ford  Fusion     SEL  Sedan    automatic  3fahp08z17r268380    md   \n",
       "\n",
       "   condition  odometer  color interior                      seller  \\\n",
       "0        4.2  111041.0  black    black          santander consumer   \n",
       "1        3.5   31034.0  black    black       ars/avis budget group   \n",
       "2        2.2   35619.0  black    black          nissan-infiniti lt   \n",
       "3        2.8  131301.0   gold    beige  wichita falls ford lin inc   \n",
       "4        2.0  127709.0  black    black                purple heart   \n",
       "\n",
       "   sellingprice                                 saledate  \n",
       "0         12500  Tue Jun 02 2015 02:30:00 GMT-0700 (PDT)  \n",
       "1         14500  Wed Feb 25 2015 02:00:00 GMT-0800 (PST)  \n",
       "2          9100  Wed Jun 10 2015 02:30:00 GMT-0700 (PDT)  \n",
       "3         13300  Wed Jun 17 2015 03:00:00 GMT-0700 (PDT)  \n",
       "4          1300  Tue Feb 03 2015 04:00:00 GMT-0800 (PST)  "
      ]
     },
     "metadata": {},
     "output_type": "display_data"
    },
    {
     "name": "stdout",
     "output_type": "stream",
     "text": [
      "<class 'pandas.core.frame.DataFrame'>\n",
      "RangeIndex: 440236 entries, 0 to 440235\n",
      "Data columns (total 15 columns):\n",
      " #   Column        Non-Null Count   Dtype  \n",
      "---  ------        --------------   -----  \n",
      " 0   year          440236 non-null  int64  \n",
      " 1   make          432193 non-null  object \n",
      " 2   model         432113 non-null  object \n",
      " 3   trim          431899 non-null  object \n",
      " 4   body          429843 non-null  object \n",
      " 5   transmission  388775 non-null  object \n",
      " 6   vin           440236 non-null  object \n",
      " 7   state         440236 non-null  object \n",
      " 8   condition     430831 non-null  float64\n",
      " 9   odometer      440167 non-null  float64\n",
      " 10  color         439650 non-null  object \n",
      " 11  interior      439650 non-null  object \n",
      " 12  seller        440236 non-null  object \n",
      " 13  sellingprice  440236 non-null  int64  \n",
      " 14  saledate      440236 non-null  object \n",
      "dtypes: float64(2), int64(2), object(11)\n",
      "memory usage: 50.4+ MB\n"
     ]
    },
    {
     "data": {
      "text/plain": [
       "None"
      ]
     },
     "metadata": {},
     "output_type": "display_data"
    },
    {
     "name": "stdout",
     "output_type": "stream",
     "text": [
      "--------------------Описание данных--------------------\n"
     ]
    },
    {
     "data": {
      "text/html": [
       "<div>\n",
       "<style scoped>\n",
       "    .dataframe tbody tr th:only-of-type {\n",
       "        vertical-align: middle;\n",
       "    }\n",
       "\n",
       "    .dataframe tbody tr th {\n",
       "        vertical-align: top;\n",
       "    }\n",
       "\n",
       "    .dataframe thead th {\n",
       "        text-align: right;\n",
       "    }\n",
       "</style>\n",
       "<table border=\"1\" class=\"dataframe\">\n",
       "  <thead>\n",
       "    <tr style=\"text-align: right;\">\n",
       "      <th></th>\n",
       "      <th>year</th>\n",
       "      <th>make</th>\n",
       "      <th>model</th>\n",
       "      <th>trim</th>\n",
       "      <th>body</th>\n",
       "      <th>transmission</th>\n",
       "      <th>vin</th>\n",
       "      <th>state</th>\n",
       "      <th>condition</th>\n",
       "      <th>odometer</th>\n",
       "      <th>color</th>\n",
       "      <th>interior</th>\n",
       "      <th>seller</th>\n",
       "      <th>sellingprice</th>\n",
       "      <th>saledate</th>\n",
       "    </tr>\n",
       "  </thead>\n",
       "  <tbody>\n",
       "    <tr>\n",
       "      <th>count</th>\n",
       "      <td>440236.000000</td>\n",
       "      <td>432193</td>\n",
       "      <td>432113</td>\n",
       "      <td>431899</td>\n",
       "      <td>429843</td>\n",
       "      <td>388775</td>\n",
       "      <td>440236</td>\n",
       "      <td>440236</td>\n",
       "      <td>430831.000000</td>\n",
       "      <td>440167.000000</td>\n",
       "      <td>439650</td>\n",
       "      <td>439650</td>\n",
       "      <td>440236</td>\n",
       "      <td>440236.000000</td>\n",
       "      <td>440236</td>\n",
       "    </tr>\n",
       "    <tr>\n",
       "      <th>unique</th>\n",
       "      <td>NaN</td>\n",
       "      <td>92</td>\n",
       "      <td>959</td>\n",
       "      <td>1922</td>\n",
       "      <td>85</td>\n",
       "      <td>2</td>\n",
       "      <td>440236</td>\n",
       "      <td>38</td>\n",
       "      <td>NaN</td>\n",
       "      <td>NaN</td>\n",
       "      <td>20</td>\n",
       "      <td>17</td>\n",
       "      <td>13025</td>\n",
       "      <td>NaN</td>\n",
       "      <td>3597</td>\n",
       "    </tr>\n",
       "    <tr>\n",
       "      <th>top</th>\n",
       "      <td>NaN</td>\n",
       "      <td>Ford</td>\n",
       "      <td>Altima</td>\n",
       "      <td>Base</td>\n",
       "      <td>Sedan</td>\n",
       "      <td>automatic</td>\n",
       "      <td>2fmdk3jc4bba41556</td>\n",
       "      <td>fl</td>\n",
       "      <td>NaN</td>\n",
       "      <td>NaN</td>\n",
       "      <td>black</td>\n",
       "      <td>black</td>\n",
       "      <td>nissan-infiniti lt</td>\n",
       "      <td>NaN</td>\n",
       "      <td>Tue Feb 10 2015 01:30:00 GMT-0800 (PST)</td>\n",
       "    </tr>\n",
       "    <tr>\n",
       "      <th>freq</th>\n",
       "      <td>NaN</td>\n",
       "      <td>73708</td>\n",
       "      <td>15454</td>\n",
       "      <td>43853</td>\n",
       "      <td>157639</td>\n",
       "      <td>375061</td>\n",
       "      <td>1</td>\n",
       "      <td>65618</td>\n",
       "      <td>NaN</td>\n",
       "      <td>NaN</td>\n",
       "      <td>87115</td>\n",
       "      <td>192442</td>\n",
       "      <td>15823</td>\n",
       "      <td>NaN</td>\n",
       "      <td>4209</td>\n",
       "    </tr>\n",
       "    <tr>\n",
       "      <th>mean</th>\n",
       "      <td>2010.040101</td>\n",
       "      <td>NaN</td>\n",
       "      <td>NaN</td>\n",
       "      <td>NaN</td>\n",
       "      <td>NaN</td>\n",
       "      <td>NaN</td>\n",
       "      <td>NaN</td>\n",
       "      <td>NaN</td>\n",
       "      <td>3.425077</td>\n",
       "      <td>68344.421604</td>\n",
       "      <td>NaN</td>\n",
       "      <td>NaN</td>\n",
       "      <td>NaN</td>\n",
       "      <td>13592.209588</td>\n",
       "      <td>NaN</td>\n",
       "    </tr>\n",
       "    <tr>\n",
       "      <th>std</th>\n",
       "      <td>3.977945</td>\n",
       "      <td>NaN</td>\n",
       "      <td>NaN</td>\n",
       "      <td>NaN</td>\n",
       "      <td>NaN</td>\n",
       "      <td>NaN</td>\n",
       "      <td>NaN</td>\n",
       "      <td>NaN</td>\n",
       "      <td>0.949973</td>\n",
       "      <td>53542.203908</td>\n",
       "      <td>NaN</td>\n",
       "      <td>NaN</td>\n",
       "      <td>NaN</td>\n",
       "      <td>9751.479098</td>\n",
       "      <td>NaN</td>\n",
       "    </tr>\n",
       "    <tr>\n",
       "      <th>min</th>\n",
       "      <td>1982.000000</td>\n",
       "      <td>NaN</td>\n",
       "      <td>NaN</td>\n",
       "      <td>NaN</td>\n",
       "      <td>NaN</td>\n",
       "      <td>NaN</td>\n",
       "      <td>NaN</td>\n",
       "      <td>NaN</td>\n",
       "      <td>1.000000</td>\n",
       "      <td>1.000000</td>\n",
       "      <td>NaN</td>\n",
       "      <td>NaN</td>\n",
       "      <td>NaN</td>\n",
       "      <td>1.000000</td>\n",
       "      <td>NaN</td>\n",
       "    </tr>\n",
       "    <tr>\n",
       "      <th>25%</th>\n",
       "      <td>2007.000000</td>\n",
       "      <td>NaN</td>\n",
       "      <td>NaN</td>\n",
       "      <td>NaN</td>\n",
       "      <td>NaN</td>\n",
       "      <td>NaN</td>\n",
       "      <td>NaN</td>\n",
       "      <td>NaN</td>\n",
       "      <td>2.700000</td>\n",
       "      <td>28258.000000</td>\n",
       "      <td>NaN</td>\n",
       "      <td>NaN</td>\n",
       "      <td>NaN</td>\n",
       "      <td>6900.000000</td>\n",
       "      <td>NaN</td>\n",
       "    </tr>\n",
       "    <tr>\n",
       "      <th>50%</th>\n",
       "      <td>2012.000000</td>\n",
       "      <td>NaN</td>\n",
       "      <td>NaN</td>\n",
       "      <td>NaN</td>\n",
       "      <td>NaN</td>\n",
       "      <td>NaN</td>\n",
       "      <td>NaN</td>\n",
       "      <td>NaN</td>\n",
       "      <td>3.600000</td>\n",
       "      <td>52098.000000</td>\n",
       "      <td>NaN</td>\n",
       "      <td>NaN</td>\n",
       "      <td>NaN</td>\n",
       "      <td>12100.000000</td>\n",
       "      <td>NaN</td>\n",
       "    </tr>\n",
       "    <tr>\n",
       "      <th>75%</th>\n",
       "      <td>2013.000000</td>\n",
       "      <td>NaN</td>\n",
       "      <td>NaN</td>\n",
       "      <td>NaN</td>\n",
       "      <td>NaN</td>\n",
       "      <td>NaN</td>\n",
       "      <td>NaN</td>\n",
       "      <td>NaN</td>\n",
       "      <td>4.200000</td>\n",
       "      <td>99272.000000</td>\n",
       "      <td>NaN</td>\n",
       "      <td>NaN</td>\n",
       "      <td>NaN</td>\n",
       "      <td>18200.000000</td>\n",
       "      <td>NaN</td>\n",
       "    </tr>\n",
       "    <tr>\n",
       "      <th>max</th>\n",
       "      <td>2015.000000</td>\n",
       "      <td>NaN</td>\n",
       "      <td>NaN</td>\n",
       "      <td>NaN</td>\n",
       "      <td>NaN</td>\n",
       "      <td>NaN</td>\n",
       "      <td>NaN</td>\n",
       "      <td>NaN</td>\n",
       "      <td>5.000000</td>\n",
       "      <td>999999.000000</td>\n",
       "      <td>NaN</td>\n",
       "      <td>NaN</td>\n",
       "      <td>NaN</td>\n",
       "      <td>230000.000000</td>\n",
       "      <td>NaN</td>\n",
       "    </tr>\n",
       "  </tbody>\n",
       "</table>\n",
       "</div>"
      ],
      "text/plain": [
       "                 year    make   model    trim    body transmission  \\\n",
       "count   440236.000000  432193  432113  431899  429843       388775   \n",
       "unique            NaN      92     959    1922      85            2   \n",
       "top               NaN    Ford  Altima    Base   Sedan    automatic   \n",
       "freq              NaN   73708   15454   43853  157639       375061   \n",
       "mean      2010.040101     NaN     NaN     NaN     NaN          NaN   \n",
       "std          3.977945     NaN     NaN     NaN     NaN          NaN   \n",
       "min       1982.000000     NaN     NaN     NaN     NaN          NaN   \n",
       "25%       2007.000000     NaN     NaN     NaN     NaN          NaN   \n",
       "50%       2012.000000     NaN     NaN     NaN     NaN          NaN   \n",
       "75%       2013.000000     NaN     NaN     NaN     NaN          NaN   \n",
       "max       2015.000000     NaN     NaN     NaN     NaN          NaN   \n",
       "\n",
       "                      vin   state      condition       odometer   color  \\\n",
       "count              440236  440236  430831.000000  440167.000000  439650   \n",
       "unique             440236      38            NaN            NaN      20   \n",
       "top     2fmdk3jc4bba41556      fl            NaN            NaN   black   \n",
       "freq                    1   65618            NaN            NaN   87115   \n",
       "mean                  NaN     NaN       3.425077   68344.421604     NaN   \n",
       "std                   NaN     NaN       0.949973   53542.203908     NaN   \n",
       "min                   NaN     NaN       1.000000       1.000000     NaN   \n",
       "25%                   NaN     NaN       2.700000   28258.000000     NaN   \n",
       "50%                   NaN     NaN       3.600000   52098.000000     NaN   \n",
       "75%                   NaN     NaN       4.200000   99272.000000     NaN   \n",
       "max                   NaN     NaN       5.000000  999999.000000     NaN   \n",
       "\n",
       "       interior              seller   sellingprice  \\\n",
       "count    439650              440236  440236.000000   \n",
       "unique       17               13025            NaN   \n",
       "top       black  nissan-infiniti lt            NaN   \n",
       "freq     192442               15823            NaN   \n",
       "mean        NaN                 NaN   13592.209588   \n",
       "std         NaN                 NaN    9751.479098   \n",
       "min         NaN                 NaN       1.000000   \n",
       "25%         NaN                 NaN    6900.000000   \n",
       "50%         NaN                 NaN   12100.000000   \n",
       "75%         NaN                 NaN   18200.000000   \n",
       "max         NaN                 NaN  230000.000000   \n",
       "\n",
       "                                       saledate  \n",
       "count                                    440236  \n",
       "unique                                     3597  \n",
       "top     Tue Feb 10 2015 01:30:00 GMT-0800 (PST)  \n",
       "freq                                       4209  \n",
       "mean                                        NaN  \n",
       "std                                         NaN  \n",
       "min                                         NaN  \n",
       "25%                                         NaN  \n",
       "50%                                         NaN  \n",
       "75%                                         NaN  \n",
       "max                                         NaN  "
      ]
     },
     "metadata": {},
     "output_type": "display_data"
    },
    {
     "name": "stdout",
     "output_type": "stream",
     "text": [
      "--------------------Количество пропусков--------------------\n"
     ]
    },
    {
     "data": {
      "text/plain": [
       "year                0\n",
       "make             8043\n",
       "model            8123\n",
       "trim             8337\n",
       "body            10393\n",
       "transmission    51461\n",
       "vin                 0\n",
       "state               0\n",
       "condition        9405\n",
       "odometer           69\n",
       "color             586\n",
       "interior          586\n",
       "seller              0\n",
       "sellingprice        0\n",
       "saledate            0\n",
       "dtype: int64"
      ]
     },
     "metadata": {},
     "output_type": "display_data"
    },
    {
     "name": "stdout",
     "output_type": "stream",
     "text": [
      "--------------------Количество дубликатов--------------------\n"
     ]
    },
    {
     "data": {
      "text/plain": [
       "0"
      ]
     },
     "metadata": {},
     "output_type": "display_data"
    }
   ],
   "source": [
    "info(df)"
   ]
  },
  {
   "cell_type": "code",
   "execution_count": 9,
   "id": "f11f851d",
   "metadata": {
    "scrolled": true
   },
   "outputs": [
    {
     "data": {
      "image/png": "[encoded data removed]",
      "text/plain": [
       "<Figure size 1000x1000 with 14 Axes>"
      ]
     },
     "metadata": {},
     "output_type": "display_data"
    }
   ],
   "source": [
    "sns.set(style='ticks')\n",
    "sns.pairplot(df, corner=True)\n",
    "plt.suptitle('Диаграмма рассеивания', y=1.02)\n",
    "plt.show()"
   ]
  },
  {
   "cell_type": "markdown",
   "id": "b8c3e117",
   "metadata": {},
   "source": [
    "На диаграмме видно, что в данных присутсвуют выбросы, очевидная линейная зависимость признаков не наблюдается."
   ]
  },
  {
   "cell_type": "markdown",
   "id": "2ff1e98d",
   "metadata": {},
   "source": [
    "#### Обработка пропусков"
   ]
  },
  {
   "cell_type": "markdown",
   "id": "bb38b7a7",
   "metadata": {},
   "source": [
    "**Пропуски `make`, `model`, `trim`:**"
   ]
  },
  {
   "cell_type": "code",
   "execution_count": 10,
   "id": "595375f3",
   "metadata": {},
   "outputs": [
    {
     "data": {
      "text/plain": [
       "8043"
      ]
     },
     "execution_count": 10,
     "metadata": {},
     "output_type": "execute_result"
    }
   ],
   "source": [
    "df[df['make'].isna() & df['model'].isna() & df['trim'].isna()]['year'].count()"
   ]
  },
  {
   "cell_type": "markdown",
   "id": "c5a38a19",
   "metadata": {},
   "source": [
    "Видим, что пропуски в марке, модели и версии автомобиля находятся в одних и тех же строках, удалим их. Также, учитывая, что в модели и версии автомобиля останется маленькое количество пропусков, их тоже удалим."
   ]
  },
  {
   "cell_type": "markdown",
   "id": "8e9efa38",
   "metadata": {},
   "source": [
    "**Пропуски `condition` и `odometer`:**"
   ]
  },
  {
   "cell_type": "markdown",
   "id": "3bcf3770",
   "metadata": {},
   "source": [
    "Данные пропуски важны и их заполнение может повлиять на модель, поэтому мы их удалим."
   ]
  },
  {
   "cell_type": "code",
   "execution_count": 11,
   "id": "c78c31c1",
   "metadata": {},
   "outputs": [],
   "source": [
    "# удаление пропущенных значений:\n",
    "def drop_na(df, columns):\n",
    "    df.dropna(subset=columns, inplace=True)\n",
    "\n",
    "drop_na(df, ['make', 'model', 'trim', 'condition', 'odometer'])"
   ]
  },
  {
   "cell_type": "code",
   "execution_count": 12,
   "id": "575a0f69",
   "metadata": {},
   "outputs": [
    {
     "data": {
      "text/plain": [
       "year                0\n",
       "make                0\n",
       "model               0\n",
       "trim                0\n",
       "body             1699\n",
       "transmission    48544\n",
       "vin                 0\n",
       "state               0\n",
       "condition           0\n",
       "odometer            0\n",
       "color             492\n",
       "interior          492\n",
       "seller              0\n",
       "sellingprice        0\n",
       "saledate            0\n",
       "dtype: int64"
      ]
     },
     "execution_count": 12,
     "metadata": {},
     "output_type": "execute_result"
    }
   ],
   "source": [
    "df.isna().sum()"
   ]
  },
  {
   "cell_type": "markdown",
   "id": "e174a81a",
   "metadata": {},
   "source": [
    "**Пропуски `color` и `interior`:**"
   ]
  },
  {
   "cell_type": "code",
   "execution_count": 13,
   "id": "2322606d",
   "metadata": {},
   "outputs": [
    {
     "data": {
      "text/plain": [
       "array(['black', 'gold', 'silver', 'blue', 'white', 'gray', '—', 'red',\n",
       "       'brown', 'green', 'beige', nan, 'off-white', 'yellow', 'burgundy',\n",
       "       'orange', 'charcoal', 'purple', 'turquoise', 'lime', 'pink'],\n",
       "      dtype=object)"
      ]
     },
     "execution_count": 13,
     "metadata": {},
     "output_type": "execute_result"
    }
   ],
   "source": [
    "df['color'].unique()"
   ]
  },
  {
   "cell_type": "code",
   "execution_count": 14,
   "id": "c9ea587a",
   "metadata": {},
   "outputs": [
    {
     "data": {
      "text/plain": [
       "array(['black', 'beige', 'gray', 'tan', 'brown', '—', 'off-white', nan,\n",
       "       'blue', 'white', 'silver', 'red', 'green', 'gold', 'purple',\n",
       "       'orange', 'burgundy', 'yellow'], dtype=object)"
      ]
     },
     "execution_count": 14,
     "metadata": {},
     "output_type": "execute_result"
    }
   ],
   "source": [
    "df['interior'].unique()"
   ]
  },
  {
   "cell_type": "code",
   "execution_count": 15,
   "id": "b8b62225",
   "metadata": {},
   "outputs": [
    {
     "name": "stdout",
     "output_type": "stream",
     "text": [
      "19307 9066\n"
     ]
    }
   ],
   "source": [
    "# количетсво '-' в color и interior:\n",
    "print(df.query('color ==\"—\"')['year'].count(),\n",
    "df.query('interior ==\"—\"')['year'].count())"
   ]
  },
  {
   "cell_type": "markdown",
   "id": "3ce08e1e",
   "metadata": {},
   "source": [
    "В цвете кузова (`color`) присутсвует `-` в количестве 19307 и 586 пропуска, заменим эти данные на `unknown`. </br>\n",
    "В цвете салона (`interior`) присутсвует `-` в количестве 9066 и 586 пропуска, заменим эти данные на `unknown`"
   ]
  },
  {
   "cell_type": "code",
   "execution_count": 16,
   "id": "fa7fa2a8",
   "metadata": {},
   "outputs": [
    {
     "name": "stdout",
     "output_type": "stream",
     "text": [
      "Количество пропусков в цвете кузова: 0\n",
      "Количество пропусков в цвете интерьера: 0\n"
     ]
    }
   ],
   "source": [
    "# заполнение пропущенных значений цвета кузова и интерьера на `unknown`\n",
    "def fill_color_interior(df, columns, replace_value='—', \n",
    "                        fill_value='unknown'):\n",
    "    for column in columns:\n",
    "        df[column] = df[column].replace(replace_value, np.nan)\n",
    "        df[column] = df[column].fillna(fill_value)\n",
    "        \n",
    "fill_color_interior(df, columns=['color', 'interior'])\n",
    "\n",
    "# проверка\n",
    "print('Количество пропусков в цвете кузова:', df['color'].isna().sum()) \n",
    "print('Количество пропусков в цвете интерьера:', df['interior'].isna().sum())"
   ]
  },
  {
   "cell_type": "markdown",
   "id": "1c3c3b21",
   "metadata": {},
   "source": [
    "**Заменили не определенные значения и пропуски цвета кузова и салона на unknown в количестве 19893 и 9652 соответсвенно.**"
   ]
  },
  {
   "cell_type": "markdown",
   "id": "8b66e25d",
   "metadata": {},
   "source": [
    "**Пропуски `body` и `transmission` будут заполнены модой после обработки признаков `make` и `model`**"
   ]
  },
  {
   "cell_type": "markdown",
   "id": "03cb357b",
   "metadata": {},
   "source": [
    "### Исследовательский анализ данных"
   ]
  },
  {
   "cell_type": "markdown",
   "id": "69ed5deb",
   "metadata": {},
   "source": [
    "#### Рассмотрение признаков:"
   ]
  },
  {
   "cell_type": "markdown",
   "id": "c440c764",
   "metadata": {},
   "source": [
    "##### Рассмотим данные столбца `saledate` (дата продажи автомобиля):"
   ]
  },
  {
   "cell_type": "code",
   "execution_count": 17,
   "id": "a81b9aff",
   "metadata": {},
   "outputs": [],
   "source": [
    "# изменение типа колонки `saledate`:\n",
    "def upgrade_saledate(df):\n",
    "    df['saledate'] = pd.to_datetime(df['saledate'], utc=True)\n",
    "    \n",
    "upgrade_saledate(df)"
   ]
  },
  {
   "cell_type": "code",
   "execution_count": 18,
   "id": "b529884e",
   "metadata": {},
   "outputs": [
    {
     "data": {
      "text/plain": [
       "(Timestamp('2015-07-20 19:30:00+0000', tz='UTC'),\n",
       " Timestamp('2014-01-01 01:15:00+0000', tz='UTC'))"
      ]
     },
     "execution_count": 18,
     "metadata": {},
     "output_type": "execute_result"
    }
   ],
   "source": [
    "df['saledate'].max(), df['saledate'].min()"
   ]
  },
  {
   "cell_type": "code",
   "execution_count": 19,
   "id": "0a5a038b",
   "metadata": {},
   "outputs": [
    {
     "data": {
      "text/plain": [
       "Timedelta('565 days 18:15:00')"
      ]
     },
     "execution_count": 19,
     "metadata": {},
     "output_type": "execute_result"
    }
   ],
   "source": [
    "df['saledate'].max() - df['saledate'].min()"
   ]
  },
  {
   "cell_type": "markdown",
   "id": "f4dc785d",
   "metadata": {},
   "source": [
    "**Данные представлены за 558 дней ~ 1.5 года. </br> \n",
    "Первая дата продажи - 01.01.2014. </br> \n",
    "Последняя дата продажи - 14.07.2015.**"
   ]
  },
  {
   "cell_type": "markdown",
   "id": "b6ecdd42",
   "metadata": {},
   "source": [
    "##### Рассмотим данные столбца `year` (год выпуска автомобиля):"
   ]
  },
  {
   "cell_type": "code",
   "execution_count": 20,
   "id": "6d52ba52",
   "metadata": {},
   "outputs": [
    {
     "name": "stdout",
     "output_type": "stream",
     "text": [
      "Уникальные значения: [ 4  1  3 12  8  2  5 15 10  9 11  7  6  0 13 14 17 19 16 21 18 20 -1 22\n",
      " 24 25 23]\n",
      "Количество значений, где год = -1: 141\n"
     ]
    }
   ],
   "source": [
    "# создание нового признака \"количество лет\":\n",
    "def year_count(df):\n",
    "    \n",
    "    shape = df.shape[0]\n",
    "    \n",
    "    df['year_sale'] = df['saledate'].dt.year\n",
    "    df['year_count'] = df['year_sale'] - df['year']\n",
    "    \n",
    "    print('Уникальные значения:',df['year_count'].unique())\n",
    "    \n",
    "    # количество, где год = -1:\n",
    "    wrong_year = df.query('year_count == -1')['year'].count()\n",
    "    print('Количество значений, где год = -1:', wrong_year)\n",
    "    \n",
    "    # замена значений:\n",
    "    df['year_count'] = df['year_count'].replace(-1, 0)\n",
    "    \n",
    "year_count(df)"
   ]
  },
  {
   "cell_type": "markdown",
   "id": "6509f3eb",
   "metadata": {},
   "source": [
    "**В данных были обнаружены машины 2015 года, которые продались в 2014 году, так как продажи осуществлялись в декабре 2014, предположим, что это модели 2015 года.**"
   ]
  },
  {
   "cell_type": "code",
   "execution_count": 21,
   "id": "6b481c82",
   "metadata": {
    "scrolled": false
   },
   "outputs": [
    {
     "data": {
      "text/html": [
       "<div>\n",
       "<style scoped>\n",
       "    .dataframe tbody tr th:only-of-type {\n",
       "        vertical-align: middle;\n",
       "    }\n",
       "\n",
       "    .dataframe tbody tr th {\n",
       "        vertical-align: top;\n",
       "    }\n",
       "\n",
       "    .dataframe thead th {\n",
       "        text-align: right;\n",
       "    }\n",
       "</style>\n",
       "<table border=\"1\" class=\"dataframe\">\n",
       "  <thead>\n",
       "    <tr style=\"text-align: right;\">\n",
       "      <th>year</th>\n",
       "      <th>1989</th>\n",
       "      <th>1990</th>\n",
       "      <th>1991</th>\n",
       "      <th>1992</th>\n",
       "      <th>1993</th>\n",
       "      <th>1994</th>\n",
       "      <th>1995</th>\n",
       "      <th>1996</th>\n",
       "      <th>1997</th>\n",
       "      <th>1998</th>\n",
       "      <th>1999</th>\n",
       "      <th>2000</th>\n",
       "      <th>2001</th>\n",
       "      <th>2002</th>\n",
       "      <th>2003</th>\n",
       "      <th>2004</th>\n",
       "      <th>2005</th>\n",
       "      <th>2006</th>\n",
       "      <th>2007</th>\n",
       "      <th>2008</th>\n",
       "      <th>2009</th>\n",
       "      <th>2010</th>\n",
       "      <th>2011</th>\n",
       "      <th>2012</th>\n",
       "      <th>2013</th>\n",
       "      <th>2014</th>\n",
       "      <th>2015</th>\n",
       "    </tr>\n",
       "  </thead>\n",
       "  <tbody>\n",
       "    <tr>\n",
       "      <th>year</th>\n",
       "      <td>1</td>\n",
       "      <td>31</td>\n",
       "      <td>52</td>\n",
       "      <td>86</td>\n",
       "      <td>132</td>\n",
       "      <td>272</td>\n",
       "      <td>475</td>\n",
       "      <td>541</td>\n",
       "      <td>966</td>\n",
       "      <td>1409</td>\n",
       "      <td>2138</td>\n",
       "      <td>3244</td>\n",
       "      <td>4681</td>\n",
       "      <td>7006</td>\n",
       "      <td>9364</td>\n",
       "      <td>12148</td>\n",
       "      <td>14998</td>\n",
       "      <td>18973</td>\n",
       "      <td>22130</td>\n",
       "      <td>23508</td>\n",
       "      <td>15533</td>\n",
       "      <td>19889</td>\n",
       "      <td>37450</td>\n",
       "      <td>79522</td>\n",
       "      <td>77222</td>\n",
       "      <td>63492</td>\n",
       "      <td>7255</td>\n",
       "    </tr>\n",
       "  </tbody>\n",
       "</table>\n",
       "</div>"
      ],
      "text/plain": [
       "year  1989  1990  1991  1992  1993  1994  1995  1996  1997  1998  1999  2000  \\\n",
       "year     1    31    52    86   132   272   475   541   966  1409  2138  3244   \n",
       "\n",
       "year  2001  2002  2003   2004   2005   2006   2007   2008   2009   2010  \\\n",
       "year  4681  7006  9364  12148  14998  18973  22130  23508  15533  19889   \n",
       "\n",
       "year   2011   2012   2013   2014  2015  \n",
       "year  37450  79522  77222  63492  7255  "
      ]
     },
     "metadata": {},
     "output_type": "display_data"
    },
    {
     "data": {
      "image/png": "[encoded data removed]",
      "text/plain": [
       "<Figure size 1200x400 with 1 Axes>"
      ]
     },
     "metadata": {},
     "output_type": "display_data"
    }
   ],
   "source": [
    "x = df.groupby('year')['year'].count()\n",
    "display (pd.DataFrame(x).T)\n",
    "\n",
    "x.plot(kind='bar', figsize=(12, 4), rot=45)\n",
    "plt.ylabel('Количество')\n",
    "plt.xlabel('Год выпуска')\n",
    "plt.title('Распределение количества проданных машин по году выпуска')\n",
    "plt.show()"
   ]
  },
  {
   "cell_type": "markdown",
   "id": "c5ddddff",
   "metadata": {},
   "source": [
    "**Самое большое количество проданных машин - 2012 года выпуска, самое маленькое 1989 года - 1.**"
   ]
  },
  {
   "cell_type": "markdown",
   "id": "5d41e2f0",
   "metadata": {},
   "source": [
    "# Удалим машины до 1984 года"
   ]
  },
  {
   "cell_type": "code",
   "execution_count": 22,
   "id": "fa78e084",
   "metadata": {},
   "outputs": [
    {
     "data": {
      "text/plain": [
       "422518"
      ]
     },
     "execution_count": 22,
     "metadata": {},
     "output_type": "execute_result"
    }
   ],
   "source": [
    "df.shape[0]"
   ]
  },
  {
   "cell_type": "code",
   "execution_count": 23,
   "id": "f9c864e2",
   "metadata": {},
   "outputs": [],
   "source": [
    "# df.drop(df.query('year <= 1996').index, inplace=True)"
   ]
  },
  {
   "cell_type": "code",
   "execution_count": 24,
   "id": "62e805cc",
   "metadata": {},
   "outputs": [
    {
     "data": {
      "text/plain": [
       "422518"
      ]
     },
     "execution_count": 24,
     "metadata": {},
     "output_type": "execute_result"
    }
   ],
   "source": [
    "df.shape[0]"
   ]
  },
  {
   "cell_type": "markdown",
   "id": "ffcb49df",
   "metadata": {},
   "source": [
    "##### Рассмотим данные столбца `make` (марка автомобиля):"
   ]
  },
  {
   "cell_type": "code",
   "execution_count": 25,
   "id": "d3133091",
   "metadata": {},
   "outputs": [
    {
     "data": {
      "text/plain": [
       "array(['Ford', 'Nissan', 'HUMMER', 'Lincoln', 'pontiac', 'Hyundai',\n",
       "       'Buick', 'Chevrolet', 'Honda', 'Acura', 'Cadillac', 'GMC', 'Saab',\n",
       "       'Dodge', 'Mercedes-Benz', 'Toyota', 'Volkswagen', 'BMW',\n",
       "       'Infiniti', 'Chrysler', 'Kia', 'Jaguar', 'Subaru', 'Jeep', 'Lexus',\n",
       "       'Scion', 'FIAT', 'Mazda', 'Volvo', 'Audi', 'MINI', 'Isuzu',\n",
       "       'Mitsubishi', 'smart', 'Pontiac', 'Porsche', 'subaru', 'ford',\n",
       "       'Land Rover', 'chrysler', 'Suzuki', 'Saturn', 'mazda', 'dodge',\n",
       "       'Ram', 'Oldsmobile', 'hyundai', 'Mercury', 'Bentley', 'toyota',\n",
       "       'lincoln', 'Fisker', 'chevrolet', 'nissan', 'honda', 'porsche',\n",
       "       'mitsubishi', 'lexus', 'bmw', 'Maserati', 'jeep', 'mercury',\n",
       "       'Tesla', 'landrover', 'vw', 'cadillac', 'land rover',\n",
       "       'Rolls-Royce', 'audi', 'Ferrari', 'buick', 'suzuki', 'Plymouth',\n",
       "       'oldsmobile', 'Lamborghini', 'mercedes', 'volkswagen', 'Geo',\n",
       "       'ford truck', 'gmc', 'Aston Martin', 'plymouth', 'Daewoo', 'kia',\n",
       "       'gmc truck', 'dodge tk', 'maserati', 'airstream'], dtype=object)"
      ]
     },
     "execution_count": 25,
     "metadata": {},
     "output_type": "execute_result"
    }
   ],
   "source": [
    "df['make'].unique()"
   ]
  },
  {
   "cell_type": "code",
   "execution_count": 26,
   "id": "70b0ab89",
   "metadata": {
    "scrolled": true
   },
   "outputs": [
    {
     "name": "stdout",
     "output_type": "stream",
     "text": [
      "Количество уникальных марок автомобиля до преобразования: 88\n",
      "------------------------------------------------------------\n",
      "ford содержится в ford truck\n",
      "gmc содержится в gmc truck\n",
      "dodge содержится в dodge tk\n",
      "mercedes-benz содержится в mercedes\n",
      "------------------------------------------------------------\n",
      "Количество уникальных марок автомобиля после преобразования: 52\n"
     ]
    },
    {
     "data": {
      "text/plain": [
       "['acura',\n",
       " 'aston martin',\n",
       " 'audi',\n",
       " 'bentley',\n",
       " 'bmw',\n",
       " 'buick',\n",
       " 'cadillac',\n",
       " 'chevrolet',\n",
       " 'chrysler',\n",
       " 'daewoo',\n",
       " 'dodge',\n",
       " 'ferrari',\n",
       " 'fiat',\n",
       " 'fisker',\n",
       " 'ford',\n",
       " 'geo',\n",
       " 'gmc',\n",
       " 'honda',\n",
       " 'hummer',\n",
       " 'hyundai',\n",
       " 'infiniti',\n",
       " 'isuzu',\n",
       " 'jaguar',\n",
       " 'jeep',\n",
       " 'kia',\n",
       " 'lamborghini',\n",
       " 'land rover',\n",
       " 'lexus',\n",
       " 'lincoln',\n",
       " 'maserati',\n",
       " 'mazda',\n",
       " 'mercedes-benz',\n",
       " 'mercury',\n",
       " 'mini',\n",
       " 'mitsubishi',\n",
       " 'nissan',\n",
       " 'oldsmobile',\n",
       " 'plymouth',\n",
       " 'pontiac',\n",
       " 'porsche',\n",
       " 'ram',\n",
       " 'rolls-royce',\n",
       " 'saab',\n",
       " 'saturn',\n",
       " 'scion',\n",
       " 'smart',\n",
       " 'subaru',\n",
       " 'suzuki',\n",
       " 'tesla',\n",
       " 'toyota',\n",
       " 'volkswagen',\n",
       " 'volvo']"
      ]
     },
     "execution_count": 26,
     "metadata": {},
     "output_type": "execute_result"
    }
   ],
   "source": [
    "# преобразование марки автомобиля `make`:\n",
    "def upgrade_make(df, column):\n",
    "    \n",
    "    print('Количество уникальных марок автомобиля до преобразования:', \n",
    "          df[column].nunique())\n",
    "    print(60*'-')\n",
    "    df[column] = df[column].astype(str)\n",
    "    # переведем все в нижний регистр, избавимся от дубликатов\n",
    "    df[column] = df[column].str.lower()\n",
    "   \n",
    "    # проверим марки машин, которые могут быть написаны по-разному, \n",
    "    # но являются одной и той же маркой\n",
    "    unique_values = df[column].unique()\n",
    "\n",
    "    for i_index, i in enumerate(unique_values):\n",
    "        for j_index in range(i_index + 1, len(unique_values)):\n",
    "            j = unique_values[j_index]\n",
    "            if j in i or i in j:\n",
    "                print(f'{i} содержится в {j}')\n",
    "                df[column] = df[column].replace(j, i)\n",
    "    \n",
    "    # исправим некоторые компании в ручную:\n",
    "    df[column] = df[column].replace({'landrover' : 'land rover', \n",
    "                                     'vw' : 'volkswagen',\n",
    "                                     'airstream' : 'mercedes-benz'})\n",
    "    \n",
    "    print(60*'-')\n",
    "    print('Количество уникальных марок автомобиля после преобразования:', \n",
    "          df[column].nunique())\n",
    "    \n",
    "upgrade_make(df, 'make')\n",
    "\n",
    "# проверка:\n",
    "sorted(df['make'].unique())"
   ]
  },
  {
   "cell_type": "markdown",
   "id": "d69c1a91",
   "metadata": {},
   "source": [
    "Марка `airstream` модель `interstate` является партнером `mercedes-benz`, отнесем этот автомобиль к `mercedes-benz`"
   ]
  },
  {
   "cell_type": "code",
   "execution_count": 27,
   "id": "363af71f",
   "metadata": {},
   "outputs": [
    {
     "data": {
      "text/html": [
       "<div>\n",
       "<style scoped>\n",
       "    .dataframe tbody tr th:only-of-type {\n",
       "        vertical-align: middle;\n",
       "    }\n",
       "\n",
       "    .dataframe tbody tr th {\n",
       "        vertical-align: top;\n",
       "    }\n",
       "\n",
       "    .dataframe thead th {\n",
       "        text-align: right;\n",
       "    }\n",
       "</style>\n",
       "<table border=\"1\" class=\"dataframe\">\n",
       "  <thead>\n",
       "    <tr style=\"text-align: right;\">\n",
       "      <th></th>\n",
       "      <th>ford</th>\n",
       "      <th>chevrolet</th>\n",
       "      <th>nissan</th>\n",
       "      <th>toyota</th>\n",
       "      <th>dodge</th>\n",
       "      <th>honda</th>\n",
       "      <th>hyundai</th>\n",
       "      <th>bmw</th>\n",
       "      <th>kia</th>\n",
       "      <th>chrysler</th>\n",
       "      <th>mercedes-benz</th>\n",
       "      <th>infiniti</th>\n",
       "      <th>jeep</th>\n",
       "      <th>volkswagen</th>\n",
       "      <th>lexus</th>\n",
       "      <th>gmc</th>\n",
       "      <th>mazda</th>\n",
       "      <th>cadillac</th>\n",
       "      <th>acura</th>\n",
       "      <th>audi</th>\n",
       "      <th>lincoln</th>\n",
       "      <th>subaru</th>\n",
       "      <th>buick</th>\n",
       "      <th>ram</th>\n",
       "      <th>pontiac</th>\n",
       "      <th>mitsubishi</th>\n",
       "      <th>volvo</th>\n",
       "      <th>mini</th>\n",
       "      <th>saturn</th>\n",
       "      <th>mercury</th>\n",
       "      <th>land rover</th>\n",
       "      <th>scion</th>\n",
       "      <th>porsche</th>\n",
       "      <th>jaguar</th>\n",
       "      <th>suzuki</th>\n",
       "      <th>fiat</th>\n",
       "      <th>hummer</th>\n",
       "      <th>saab</th>\n",
       "      <th>smart</th>\n",
       "      <th>oldsmobile</th>\n",
       "      <th>isuzu</th>\n",
       "      <th>maserati</th>\n",
       "      <th>bentley</th>\n",
       "      <th>aston martin</th>\n",
       "      <th>tesla</th>\n",
       "      <th>ferrari</th>\n",
       "      <th>plymouth</th>\n",
       "      <th>geo</th>\n",
       "      <th>rolls-royce</th>\n",
       "      <th>fisker</th>\n",
       "      <th>lamborghini</th>\n",
       "      <th>daewoo</th>\n",
       "    </tr>\n",
       "  </thead>\n",
       "  <tbody>\n",
       "    <tr>\n",
       "      <th>make</th>\n",
       "      <td>72831</td>\n",
       "      <td>46613</td>\n",
       "      <td>42215</td>\n",
       "      <td>31006</td>\n",
       "      <td>23769</td>\n",
       "      <td>20912</td>\n",
       "      <td>16920</td>\n",
       "      <td>15844</td>\n",
       "      <td>14167</td>\n",
       "      <td>13492</td>\n",
       "      <td>13071</td>\n",
       "      <td>12027</td>\n",
       "      <td>11806</td>\n",
       "      <td>9579</td>\n",
       "      <td>9203</td>\n",
       "      <td>8120</td>\n",
       "      <td>6493</td>\n",
       "      <td>5724</td>\n",
       "      <td>4537</td>\n",
       "      <td>4510</td>\n",
       "      <td>4441</td>\n",
       "      <td>3918</td>\n",
       "      <td>3886</td>\n",
       "      <td>3567</td>\n",
       "      <td>3372</td>\n",
       "      <td>3315</td>\n",
       "      <td>2837</td>\n",
       "      <td>2435</td>\n",
       "      <td>2094</td>\n",
       "      <td>1485</td>\n",
       "      <td>1437</td>\n",
       "      <td>1307</td>\n",
       "      <td>1075</td>\n",
       "      <td>1067</td>\n",
       "      <td>807</td>\n",
       "      <td>664</td>\n",
       "      <td>581</td>\n",
       "      <td>360</td>\n",
       "      <td>305</td>\n",
       "      <td>263</td>\n",
       "      <td>150</td>\n",
       "      <td>108</td>\n",
       "      <td>90</td>\n",
       "      <td>23</td>\n",
       "      <td>17</td>\n",
       "      <td>17</td>\n",
       "      <td>16</td>\n",
       "      <td>16</td>\n",
       "      <td>14</td>\n",
       "      <td>7</td>\n",
       "      <td>4</td>\n",
       "      <td>1</td>\n",
       "    </tr>\n",
       "  </tbody>\n",
       "</table>\n",
       "</div>"
      ],
      "text/plain": [
       "       ford  chevrolet  nissan  toyota  dodge  honda  hyundai    bmw    kia  \\\n",
       "make  72831      46613   42215   31006  23769  20912    16920  15844  14167   \n",
       "\n",
       "      chrysler  mercedes-benz  infiniti   jeep  volkswagen  lexus   gmc  \\\n",
       "make     13492          13071     12027  11806        9579   9203  8120   \n",
       "\n",
       "      mazda  cadillac  acura  audi  lincoln  subaru  buick   ram  pontiac  \\\n",
       "make   6493      5724   4537  4510     4441    3918   3886  3567     3372   \n",
       "\n",
       "      mitsubishi  volvo  mini  saturn  mercury  land rover  scion  porsche  \\\n",
       "make        3315   2837  2435    2094     1485        1437   1307     1075   \n",
       "\n",
       "      jaguar  suzuki  fiat  hummer  saab  smart  oldsmobile  isuzu  maserati  \\\n",
       "make    1067     807   664     581   360    305         263    150       108   \n",
       "\n",
       "      bentley  aston martin  tesla  ferrari  plymouth  geo  rolls-royce  \\\n",
       "make       90            23     17       17        16   16           14   \n",
       "\n",
       "      fisker  lamborghini  daewoo  \n",
       "make       7            4       1  "
      ]
     },
     "metadata": {},
     "output_type": "display_data"
    },
    {
     "data": {
      "image/png": "[encoded data removed]",
      "text/plain": [
       "<Figure size 1200x400 with 1 Axes>"
      ]
     },
     "metadata": {},
     "output_type": "display_data"
    },
    {
     "data": {
      "image/png": "[encoded data removed]",
      "text/plain": [
       "<Figure size 1200x400 with 1 Axes>"
      ]
     },
     "metadata": {},
     "output_type": "display_data"
    }
   ],
   "source": [
    "value_make = pd.DataFrame(df['make'].value_counts()).T\n",
    "display (value_make)\n",
    "\n",
    "value_make.T.head(10).plot(kind='bar', figsize=(12,4), rot=0,\n",
    "title='Распределение наиболее часто продаваемых марок автомобилей')\n",
    "\n",
    "value_make.T.tail(10).plot(kind='bar', figsize=(12,4), rot=0,\n",
    "title='Распределение наиболее редко продаваемых марок автомобилей')\n",
    "plt.show();"
   ]
  },
  {
   "cell_type": "markdown",
   "id": "47f7a2fe",
   "metadata": {},
   "source": [
    "# Удалим марки где машин меньше 300"
   ]
  },
  {
   "cell_type": "code",
   "execution_count": 28,
   "id": "6124c534",
   "metadata": {},
   "outputs": [],
   "source": [
    "# value_make.T.query('make < 300').sum()"
   ]
  },
  {
   "cell_type": "code",
   "execution_count": 29,
   "id": "96cfd18f",
   "metadata": {},
   "outputs": [],
   "source": [
    "# models_to_remove = value_make.T.query('make < 300').reset_index()\n",
    "# models_to_remove = models_to_remove['index'].to_list()\n",
    "\n",
    "# df = df[~df['make'].isin(models_to_remove)]"
   ]
  },
  {
   "cell_type": "markdown",
   "id": "3e2d25e4",
   "metadata": {},
   "source": [
    "**Наиболее часто продаваемая марка автомобиля - `ford`, наиболее редко - `daewoo`.**"
   ]
  },
  {
   "cell_type": "code",
   "execution_count": null,
   "id": "68668d60",
   "metadata": {},
   "outputs": [],
   "source": []
  },
  {
   "cell_type": "code",
   "execution_count": null,
   "id": "21863734",
   "metadata": {},
   "outputs": [],
   "source": []
  },
  {
   "cell_type": "markdown",
   "id": "48fec6b4",
   "metadata": {},
   "source": [
    "# VIN"
   ]
  },
  {
   "cell_type": "code",
   "execution_count": 30,
   "id": "0b431e2c",
   "metadata": {},
   "outputs": [],
   "source": [
    "# # Функция для получения марки и модели по VIN\n",
    "# def get_vin_info(vin):\n",
    "#     vin_obj = Vin(vin)\n",
    "#     return vin_obj.manufacturer, vin_obj.decode().get('model', 'Unknown Model')\n",
    "\n",
    "# # Добавляем новые столбцы 'vin_make' и 'vin_model'\n",
    "# df['vin_make'], df['vin_model'] = zip(*df['vin'].apply(get_vin_info))"
   ]
  },
  {
   "cell_type": "code",
   "execution_count": 31,
   "id": "77e080ab",
   "metadata": {},
   "outputs": [],
   "source": [
    "# import requests\n",
    "\n",
    "# url = 'https://vpic.nhtsa.dot.gov/api/vehicles/DecodeVINValuesBatch/'\n",
    "# vin_list = [\"3GNDA13D76S000000\", \"5XYKT3A12CG000000\"]\n",
    "\n",
    "# post_fields = {'format': 'json', 'data': ';'.join(vin_list)}\n",
    "# response = requests.post(url, data=post_fields)\n",
    "\n",
    "# data = response.json()\n",
    "\n",
    "# if \"Results\" in data:\n",
    "#     for result in data[\"Results\"]:\n",
    "#         make = result.get(\"Make\", \"Unknown Make\")\n",
    "#         model = result.get(\"Model\", \"Unknown Model\")\n",
    "#         print(f\"VIN: {result['VIN']}\")\n",
    "#         print(f\"Марка: {make}\")\n",
    "#         print(f\"Модель: {model}\")\n"
   ]
  },
  {
   "cell_type": "code",
   "execution_count": null,
   "id": "fbf2858e",
   "metadata": {},
   "outputs": [],
   "source": []
  },
  {
   "cell_type": "code",
   "execution_count": null,
   "id": "9a24258f",
   "metadata": {},
   "outputs": [],
   "source": []
  },
  {
   "cell_type": "code",
   "execution_count": null,
   "id": "8e42f23b",
   "metadata": {},
   "outputs": [],
   "source": []
  },
  {
   "cell_type": "markdown",
   "id": "39f1b9c8",
   "metadata": {},
   "source": [
    "##### Рассмотим данные столбца `model` (модель автомобиля):"
   ]
  },
  {
   "cell_type": "code",
   "execution_count": 32,
   "id": "6a29ad77",
   "metadata": {},
   "outputs": [
    {
     "name": "stdout",
     "output_type": "stream",
     "text": [
      "Количество уникальных моделей до преобразования: 924\n",
      "------------------------------------------------------------\n",
      "Количество уникальных моделей после преобразования: 587\n"
     ]
    }
   ],
   "source": [
    "replace_dict_model ={'750i' : '7', '750li' : '7',\n",
    "                    'm3' : '3', 'm5' : '5', 'm6' : '6',\n",
    "                    'cts-v' : 'cts', '300m' : '300', \n",
    "                     'e150' : 'e-series', 'e350' : 'e-series',\n",
    "                    'f150' : 'f-150', 'ex' : 'ex35',\n",
    "                    'xj-series' : 'xj', 'xk-series' : 'xk',\n",
    "                    'mazdaspeed3' : 'mazda3', 'mazdaspeed' : 'mazda3',\n",
    "                    'nv200' : 'nv', 'b9' : 'tribeca', 'wrx' : 'impreza',\n",
    "                    'xl-7' : 'xl7', 'gli' : 'jetta'}\n",
    "\n",
    "before_model = df['model'].nunique()\n",
    "\n",
    "# удаление всех слов в модели, кроме первого:\n",
    "def upgrade_model(df):\n",
    "    return ' '.join(df.lower().split()[0:1])\n",
    "\n",
    "\n",
    "df['model'] = df['model'].apply(upgrade_model)\n",
    "\n",
    "# замена некоторых значений у модели автомобиля:\n",
    "df['model'] = df['model'].replace(replace_dict_model)\n",
    "\n",
    "print('Количество уникальных моделей до преобразования:', \n",
    "      before_model)\n",
    "print(60*'-')\n",
    "print('Количество уникальных моделей после преобразования:', \n",
    "      df['model'].nunique())"
   ]
  },
  {
   "cell_type": "code",
   "execution_count": 33,
   "id": "79590d9f",
   "metadata": {
    "scrolled": true
   },
   "outputs": [
    {
     "name": "stdout",
     "output_type": "stream",
     "text": [
      "Количество уникальных моделей до преобразования: 587\n",
      "------------------------------------------------------------\n",
      "Количество уникальных моделей до преобразования: 493\n"
     ]
    }
   ],
   "source": [
    "before_conversion = df['model'].nunique()\n",
    "\n",
    "# функция удаления строк, где количество моделей меньше 20:\n",
    "def remove_model(df):\n",
    "    df_cars = pd.pivot_table(df, index=['make', 'model'], values='year', aggfunc='count'). \\\n",
    "    sort_values(by=['make', 'model']).reset_index().rename(columns={'year' : 'count'})\n",
    "    \n",
    "    \n",
    "    models_to_remove = df_cars.query('count <= 5')['model'].to_list()\n",
    "\n",
    "    return df[~df['model'].isin(models_to_remove)]\n",
    "\n",
    "df = remove_model(df)\n",
    "\n",
    "print('Количество уникальных моделей до преобразования:', \n",
    "      before_conversion)\n",
    "print(60*'-')\n",
    "print('Количество уникальных моделей до преобразования:', \n",
    "      df['model'].nunique())\n",
    "\n"
   ]
  },
  {
   "cell_type": "markdown",
   "id": "d6e0f027",
   "metadata": {},
   "source": [
    "**Подумать**"
   ]
  },
  {
   "cell_type": "markdown",
   "id": "8faa2c8c",
   "metadata": {},
   "source": [
    "Данными действиями мы избавились от явных дубликатов, а так же создали новый признак \"модификация\", в него входят такие параметры как "
   ]
  },
  {
   "cell_type": "markdown",
   "id": "01df6844",
   "metadata": {},
   "source": [
    "**Подумать**"
   ]
  },
  {
   "cell_type": "code",
   "execution_count": null,
   "id": "4b2f79c2",
   "metadata": {},
   "outputs": [],
   "source": []
  },
  {
   "cell_type": "markdown",
   "id": "4f5b8639",
   "metadata": {},
   "source": [
    "Данное действие позволило нам избавится от не правильно заполненных данных и строк где очень маленькое количество моделей."
   ]
  },
  {
   "cell_type": "markdown",
   "id": "2a590e7d",
   "metadata": {},
   "source": [
    "##### Рассмотим данные столбца `trim` (версии модели автомобиля):"
   ]
  },
  {
   "cell_type": "code",
   "execution_count": 34,
   "id": "de0de6da",
   "metadata": {},
   "outputs": [
    {
     "name": "stdout",
     "output_type": "stream",
     "text": [
      "Количество уникальных версий до преобразования: 1756\n",
      "------------------------------------------------------------\n",
      "Количество уникальных версий после преобразования: 717\n"
     ]
    }
   ],
   "source": [
    "before_trim = df['trim'].nunique()\n",
    "\n",
    "# отделение всех слов, кроме 1 из версии автомобиля:\n",
    "def upgrade_trim(df):\n",
    "    return ' '.join(df.lower().split()[0:1])\n",
    "\n",
    "df['trim'] = df['trim'].apply(upgrade_model)\n",
    "print('Количество уникальных версий до преобразования:', \n",
    "      before_trim)\n",
    "print(60*'-')\n",
    "print('Количество уникальных версий после преобразования:', \n",
    "      df['trim'].nunique())"
   ]
  },
  {
   "cell_type": "code",
   "execution_count": null,
   "id": "c98b2b63",
   "metadata": {},
   "outputs": [],
   "source": []
  },
  {
   "cell_type": "code",
   "execution_count": null,
   "id": "aa9f28fa",
   "metadata": {},
   "outputs": [],
   "source": []
  },
  {
   "cell_type": "markdown",
   "id": "3e5634e3",
   "metadata": {},
   "source": [
    "##### Рассмотим данные столбца `body` (тип кузова транспортного средства):"
   ]
  },
  {
   "cell_type": "code",
   "execution_count": 35,
   "id": "b68b5659",
   "metadata": {},
   "outputs": [
    {
     "data": {
      "text/plain": [
       "array(['suv', 'Sedan', 'sedan', nan, 'SUV', 'wagon', 'Minivan',\n",
       "       'Extended Cab', 'Regular Cab', 'Coupe', 'SuperCrew', 'Wagon',\n",
       "       'convertible', 'Crew Cab', 'SuperCab', 'Convertible', 'Hatchback',\n",
       "       'hatchback', 'G Coupe', 'G Convertible', 'coupe', 'Access Cab',\n",
       "       'G Sedan', 'regular cab', 'e-series van', 'minivan', 'supercrew',\n",
       "       'Quad Cab', 'tsx sport wagon', 'Van', 'g sedan', 'E-Series Van',\n",
       "       'CTS Coupe', 'Koup', 'King Cab', 'extended cab', 'double cab',\n",
       "       'Elantra Coupe', 'koup', 'access cab', 'Double Cab', 'crew cab',\n",
       "       'quad cab', 'g coupe', 'CrewMax Cab', 'supercab', 'g convertible',\n",
       "       'Genesis Coupe', 'van', 'G37 Coupe', 'club cab',\n",
       "       'Beetle Convertible', 'Mega Cab', 'regular-cab', 'Xtracab',\n",
       "       'cts coupe', 'genesis coupe', 'Club Cab', 'q60 coupe', 'mega cab',\n",
       "       'crewmax cab', 'Promaster Cargo Van', 'king cab', 'CTS-V Coupe',\n",
       "       'TSX Sport Wagon', 'CTS Wagon', 'Cab Plus 4', 'G37 Convertible',\n",
       "       'Transit Van', 'Q60 Convertible', 'elantra coupe',\n",
       "       'beetle convertible', 'Q60 Coupe', 'promaster cargo van',\n",
       "       'transit van', 'g37 convertible', 'g37 coupe', 'Ram Van',\n",
       "       'granturismo convertible', 'GranTurismo Convertible', 'cab plus 4',\n",
       "       'xtracab', 'cts-v coupe', 'q60 convertible', 'CTS-V Wagon'],\n",
       "      dtype=object)"
      ]
     },
     "execution_count": 35,
     "metadata": {},
     "output_type": "execute_result"
    }
   ],
   "source": [
    "df['body'].unique()"
   ]
  },
  {
   "cell_type": "markdown",
   "id": "95c09b39",
   "metadata": {},
   "source": [
    "Присутствует большая разновидность cab, на данный момент заменим их на общее название."
   ]
  },
  {
   "cell_type": "code",
   "execution_count": 36,
   "id": "168942a7",
   "metadata": {
    "scrolled": true
   },
   "outputs": [
    {
     "name": "stdout",
     "output_type": "stream",
     "text": [
      "Количество уникальных кузовов до преобразования: 84\n",
      "------------------------------------------------------------\n",
      "Количество уникальных кузовов после преобразования: 10\n"
     ]
    },
    {
     "data": {
      "text/plain": [
       "array(['suv', 'sedan', 'nan', 'wagon', 'van', 'cab', 'coupe', 'supercrew',\n",
       "       'convertible', 'hatchback'], dtype=object)"
      ]
     },
     "execution_count": 36,
     "metadata": {},
     "output_type": "execute_result"
    }
   ],
   "source": [
    "count_unique_body = df['body'].nunique()\n",
    "df['body'] = df['body'].str.lower().astype(str)\n",
    "\n",
    "# изменение вариации типов кузова на стандартные названия:\n",
    "def upgrade_body(df):\n",
    "    \n",
    "    if 'convertible' in df:\n",
    "        return 'convertible'\n",
    "    elif 'coupe' in df:\n",
    "        return 'coupe'\n",
    "    elif 'van' in df:\n",
    "        return 'van'\n",
    "    elif 'koup' in df:\n",
    "        return 'hatchback'\n",
    "    elif 'sedan' in df:\n",
    "        return 'sedan'\n",
    "    elif 'wagon' in df:\n",
    "        return 'wagon'\n",
    "    elif 'cab' in df:\n",
    "        return 'cab'\n",
    "    else:\n",
    "        return df\n",
    "\n",
    "df['body'] = df['body'].apply(upgrade_body)\n",
    "\n",
    "print('Количество уникальных кузовов до преобразования:',\n",
    "      count_unique_body)\n",
    "print(60*'-')\n",
    "print('Количество уникальных кузовов после преобразования:',\n",
    "      df['body'].nunique())\n",
    "\n",
    "df['body'].unique()"
   ]
  },
  {
   "cell_type": "markdown",
   "id": "bef61b0a",
   "metadata": {},
   "source": [
    "**Заполним пропуски:**"
   ]
  },
  {
   "cell_type": "code",
   "execution_count": 37,
   "id": "d9ee7895",
   "metadata": {},
   "outputs": [
    {
     "data": {
      "text/plain": [
       "sedan          191460\n",
       "suv            106754\n",
       "cab             25851\n",
       "hatchback       20471\n",
       "van             18389\n",
       "coupe           15154\n",
       "wagon           12287\n",
       "convertible      8324\n",
       "supercrew        6959\n",
       "nan              1532\n",
       "Name: body, dtype: int64"
      ]
     },
     "execution_count": 37,
     "metadata": {},
     "output_type": "execute_result"
    }
   ],
   "source": [
    "df['body'].value_counts()"
   ]
  },
  {
   "cell_type": "code",
   "execution_count": 38,
   "id": "a3dc04fd",
   "metadata": {},
   "outputs": [
    {
     "data": {
      "text/plain": [
       "sedan          191744\n",
       "suv            107257\n",
       "cab             25915\n",
       "hatchback       20480\n",
       "van             18608\n",
       "coupe           15177\n",
       "wagon           12494\n",
       "convertible      8342\n",
       "supercrew        6999\n",
       "Name: body, dtype: int64"
      ]
     },
     "execution_count": 38,
     "metadata": {},
     "output_type": "execute_result"
    }
   ],
   "source": [
    "# заполнение пропущенных значений `body` модой:\n",
    "def fill_drop_body(df):\n",
    "    \n",
    "    # самый часто встречающийся кузов у моделей - мода\n",
    "    body_dict = df.groupby('model')['body'].agg(pd.Series.mode)\n",
    "\n",
    "    # замена пропущенных значений на моду\n",
    "    df['body'] = df.apply(lambda x: body_dict[x['model']]\n",
    "                          if x['body'] == 'nan'\n",
    "                          else x['body'], axis=1)\n",
    "    \n",
    "    # удаление значений которые не заполнились\n",
    "    df.drop(df[df['body'] == 'nan'].index, inplace=True)\n",
    "    \n",
    "fill_drop_body(df)\n",
    "\n",
    "# проверка:\n",
    "df['body'].value_counts()"
   ]
  },
  {
   "cell_type": "code",
   "execution_count": 39,
   "id": "f6450d43",
   "metadata": {},
   "outputs": [
    {
     "data": {
      "image/png": "[encoded data removed]",
      "text/plain": [
       "<Figure size 900x400 with 1 Axes>"
      ]
     },
     "metadata": {},
     "output_type": "display_data"
    }
   ],
   "source": [
    "df.groupby('body')['body'].count().sort_values(ascending=False). \\\n",
    "plot(kind='bar', rot=20, figsize=(9,4), title='Распределение типа кузова')\n",
    "plt.ylabel('Количество');\n",
    "plt.xlabel('Тип кузова');"
   ]
  },
  {
   "cell_type": "markdown",
   "id": "1c8f7456",
   "metadata": {},
   "source": [
    "**Больше всего проданных машин с типом кузова - `sedan`, меньше всего - `convertible` и `supercrew`**"
   ]
  },
  {
   "cell_type": "markdown",
   "id": "7c17941d",
   "metadata": {},
   "source": [
    "##### Рассмотим данные столбца `transmission` (коробка передач):"
   ]
  },
  {
   "cell_type": "markdown",
   "id": "fa97f9c3",
   "metadata": {},
   "source": [
    "**Заполним пропуски:**"
   ]
  },
  {
   "cell_type": "code",
   "execution_count": 40,
   "id": "804d22d3",
   "metadata": {},
   "outputs": [
    {
     "data": {
      "text/plain": [
       "automatic    347784\n",
       "manual        12762\n",
       "Name: transmission, dtype: int64"
      ]
     },
     "execution_count": 40,
     "metadata": {},
     "output_type": "execute_result"
    }
   ],
   "source": [
    "df['transmission'].value_counts()"
   ]
  },
  {
   "cell_type": "code",
   "execution_count": 41,
   "id": "a4f83a6c",
   "metadata": {},
   "outputs": [
    {
     "data": {
      "text/plain": [
       "46470"
      ]
     },
     "execution_count": 41,
     "metadata": {},
     "output_type": "execute_result"
    }
   ],
   "source": [
    "df['transmission'].isna().sum()"
   ]
  },
  {
   "cell_type": "code",
   "execution_count": 42,
   "id": "87de5448",
   "metadata": {},
   "outputs": [],
   "source": [
    "# заполнение пропущенных значений `transmission` модой:\n",
    "def fill_drop_transmission(df):\n",
    "    \n",
    "    # самый часто встречающийся кузов у моделей - мода\n",
    "    transmission_dict = df.groupby('model')['transmission'].agg(pd.Series.mode)\n",
    "\n",
    "    # замена пропущенных значений на моду\n",
    "    df['transmission'] = df.apply(lambda x: transmission_dict[x['model']]\n",
    "                          if pd.isna(x['transmission'])\n",
    "                          else x['transmission'], axis=1)\n",
    "    \n",
    "fill_drop_transmission(df)"
   ]
  },
  {
   "cell_type": "code",
   "execution_count": 43,
   "id": "5ce09512",
   "metadata": {},
   "outputs": [
    {
     "data": {
      "text/plain": [
       "0"
      ]
     },
     "execution_count": 43,
     "metadata": {},
     "output_type": "execute_result"
    }
   ],
   "source": [
    "df['transmission'].isna().sum()"
   ]
  },
  {
   "cell_type": "code",
   "execution_count": 44,
   "id": "3987dfc3",
   "metadata": {},
   "outputs": [
    {
     "ename": "TypeError",
     "evalue": "unhashable type: 'numpy.ndarray'",
     "output_type": "error",
     "traceback": [
      "\u001b[0;31m---------------------------------------------------------------------------\u001b[0m",
      "\u001b[0;31mTypeError\u001b[0m                                 Traceback (most recent call last)",
      "Input \u001b[0;32mIn [44]\u001b[0m, in \u001b[0;36m<cell line: 1>\u001b[0;34m()\u001b[0m\n\u001b[0;32m----> 1\u001b[0m \u001b[43mdf\u001b[49m\u001b[38;5;241;43m.\u001b[39;49m\u001b[43mgroupby\u001b[49m\u001b[43m(\u001b[49m\u001b[38;5;124;43m'\u001b[39;49m\u001b[38;5;124;43mtransmission\u001b[39;49m\u001b[38;5;124;43m'\u001b[39;49m\u001b[43m)\u001b[49m\u001b[43m[\u001b[49m\u001b[38;5;124;43m'\u001b[39;49m\u001b[38;5;124;43mtransmission\u001b[39;49m\u001b[38;5;124;43m'\u001b[39;49m\u001b[43m]\u001b[49m\u001b[38;5;241;43m.\u001b[39;49m\u001b[43mcount\u001b[49m\u001b[43m(\u001b[49m\u001b[43m)\u001b[49m\u001b[38;5;241m.\u001b[39m \\\n\u001b[1;32m      2\u001b[0m plot(kind\u001b[38;5;241m=\u001b[39m\u001b[38;5;124m'\u001b[39m\u001b[38;5;124mbar\u001b[39m\u001b[38;5;124m'\u001b[39m, rot\u001b[38;5;241m=\u001b[39m\u001b[38;5;241m0\u001b[39m, figsize\u001b[38;5;241m=\u001b[39m(\u001b[38;5;241m7\u001b[39m,\u001b[38;5;241m4\u001b[39m), title\u001b[38;5;241m=\u001b[39m\u001b[38;5;124m'\u001b[39m\u001b[38;5;124mРаспределение коробки передач\u001b[39m\u001b[38;5;124m'\u001b[39m)\n\u001b[1;32m      3\u001b[0m plt\u001b[38;5;241m.\u001b[39mylabel(\u001b[38;5;124m'\u001b[39m\u001b[38;5;124mКоличество\u001b[39m\u001b[38;5;124m'\u001b[39m)\n\u001b[1;32m      4\u001b[0m plt\u001b[38;5;241m.\u001b[39mxlabel(\u001b[38;5;124m'\u001b[39m\u001b[38;5;124mТип коробки передач\u001b[39m\u001b[38;5;124m'\u001b[39m)\n",
      "File \u001b[0;32m/Applications/anaconda3/lib/python3.9/site-packages/pandas/core/groupby/groupby.py:1852\u001b[0m, in \u001b[0;36mGroupBy.count\u001b[0;34m(self)\u001b[0m\n\u001b[1;32m   1843\u001b[0m \u001b[38;5;250m\u001b[39m\u001b[38;5;124;03m\"\"\"\u001b[39;00m\n\u001b[1;32m   1844\u001b[0m \u001b[38;5;124;03mCompute count of group, excluding missing values.\u001b[39;00m\n\u001b[1;32m   1845\u001b[0m \n\u001b[0;32m   (...)\u001b[0m\n\u001b[1;32m   1849\u001b[0m \u001b[38;5;124;03m    Count of values within each group.\u001b[39;00m\n\u001b[1;32m   1850\u001b[0m \u001b[38;5;124;03m\"\"\"\u001b[39;00m\n\u001b[1;32m   1851\u001b[0m data \u001b[38;5;241m=\u001b[39m \u001b[38;5;28mself\u001b[39m\u001b[38;5;241m.\u001b[39m_get_data_to_aggregate()\n\u001b[0;32m-> 1852\u001b[0m ids, _, ngroups \u001b[38;5;241m=\u001b[39m \u001b[38;5;28;43mself\u001b[39;49m\u001b[38;5;241;43m.\u001b[39;49m\u001b[43mgrouper\u001b[49m\u001b[38;5;241;43m.\u001b[39;49m\u001b[43mgroup_info\u001b[49m\n\u001b[1;32m   1853\u001b[0m mask \u001b[38;5;241m=\u001b[39m ids \u001b[38;5;241m!=\u001b[39m \u001b[38;5;241m-\u001b[39m\u001b[38;5;241m1\u001b[39m\n\u001b[1;32m   1855\u001b[0m is_series \u001b[38;5;241m=\u001b[39m data\u001b[38;5;241m.\u001b[39mndim \u001b[38;5;241m==\u001b[39m \u001b[38;5;241m1\u001b[39m\n",
      "File \u001b[0;32m/Applications/anaconda3/lib/python3.9/site-packages/pandas/_libs/properties.pyx:37\u001b[0m, in \u001b[0;36mpandas._libs.properties.CachedProperty.__get__\u001b[0;34m()\u001b[0m\n",
      "File \u001b[0;32m/Applications/anaconda3/lib/python3.9/site-packages/pandas/core/groupby/ops.py:834\u001b[0m, in \u001b[0;36mBaseGrouper.group_info\u001b[0;34m(self)\u001b[0m\n\u001b[1;32m    832\u001b[0m \u001b[38;5;129m@cache_readonly\u001b[39m\n\u001b[1;32m    833\u001b[0m \u001b[38;5;28;01mdef\u001b[39;00m \u001b[38;5;21mgroup_info\u001b[39m(\u001b[38;5;28mself\u001b[39m) \u001b[38;5;241m-\u001b[39m\u001b[38;5;241m>\u001b[39m \u001b[38;5;28mtuple\u001b[39m[npt\u001b[38;5;241m.\u001b[39mNDArray[np\u001b[38;5;241m.\u001b[39mintp], npt\u001b[38;5;241m.\u001b[39mNDArray[np\u001b[38;5;241m.\u001b[39mintp], \u001b[38;5;28mint\u001b[39m]:\n\u001b[0;32m--> 834\u001b[0m     comp_ids, obs_group_ids \u001b[38;5;241m=\u001b[39m \u001b[38;5;28;43mself\u001b[39;49m\u001b[38;5;241;43m.\u001b[39;49m\u001b[43m_get_compressed_codes\u001b[49m\u001b[43m(\u001b[49m\u001b[43m)\u001b[49m\n\u001b[1;32m    836\u001b[0m     ngroups \u001b[38;5;241m=\u001b[39m \u001b[38;5;28mlen\u001b[39m(obs_group_ids)\n\u001b[1;32m    837\u001b[0m     comp_ids \u001b[38;5;241m=\u001b[39m ensure_platform_int(comp_ids)\n",
      "File \u001b[0;32m/Applications/anaconda3/lib/python3.9/site-packages/pandas/core/groupby/ops.py:862\u001b[0m, in \u001b[0;36mBaseGrouper._get_compressed_codes\u001b[0;34m(self)\u001b[0m\n\u001b[1;32m    859\u001b[0m     \u001b[38;5;28;01mreturn\u001b[39;00m compress_group_index(group_index, sort\u001b[38;5;241m=\u001b[39m\u001b[38;5;28mself\u001b[39m\u001b[38;5;241m.\u001b[39m_sort)\n\u001b[1;32m    861\u001b[0m ping \u001b[38;5;241m=\u001b[39m \u001b[38;5;28mself\u001b[39m\u001b[38;5;241m.\u001b[39mgroupings[\u001b[38;5;241m0\u001b[39m]\n\u001b[0;32m--> 862\u001b[0m \u001b[38;5;28;01mreturn\u001b[39;00m \u001b[43mping\u001b[49m\u001b[38;5;241;43m.\u001b[39;49m\u001b[43mcodes\u001b[49m, np\u001b[38;5;241m.\u001b[39marange(\u001b[38;5;28mlen\u001b[39m(ping\u001b[38;5;241m.\u001b[39mgroup_index), dtype\u001b[38;5;241m=\u001b[39mnp\u001b[38;5;241m.\u001b[39mintp)\n",
      "File \u001b[0;32m/Applications/anaconda3/lib/python3.9/site-packages/pandas/core/groupby/grouper.py:622\u001b[0m, in \u001b[0;36mGrouping.codes\u001b[0;34m(self)\u001b[0m\n\u001b[1;32m    618\u001b[0m \u001b[38;5;28;01mif\u001b[39;00m \u001b[38;5;28mself\u001b[39m\u001b[38;5;241m.\u001b[39m_codes \u001b[38;5;129;01mis\u001b[39;00m \u001b[38;5;129;01mnot\u001b[39;00m \u001b[38;5;28;01mNone\u001b[39;00m:\n\u001b[1;32m    619\u001b[0m     \u001b[38;5;66;03m# _codes is set in __init__ for MultiIndex cases\u001b[39;00m\n\u001b[1;32m    620\u001b[0m     \u001b[38;5;28;01mreturn\u001b[39;00m \u001b[38;5;28mself\u001b[39m\u001b[38;5;241m.\u001b[39m_codes\n\u001b[0;32m--> 622\u001b[0m \u001b[38;5;28;01mreturn\u001b[39;00m \u001b[38;5;28;43mself\u001b[39;49m\u001b[38;5;241;43m.\u001b[39;49m\u001b[43m_codes_and_uniques\u001b[49m[\u001b[38;5;241m0\u001b[39m]\n",
      "File \u001b[0;32m/Applications/anaconda3/lib/python3.9/site-packages/pandas/_libs/properties.pyx:37\u001b[0m, in \u001b[0;36mpandas._libs.properties.CachedProperty.__get__\u001b[0;34m()\u001b[0m\n",
      "File \u001b[0;32m/Applications/anaconda3/lib/python3.9/site-packages/pandas/core/groupby/grouper.py:690\u001b[0m, in \u001b[0;36mGrouping._codes_and_uniques\u001b[0;34m(self)\u001b[0m\n\u001b[1;32m    688\u001b[0m     \u001b[38;5;28;01melse\u001b[39;00m:\n\u001b[1;32m    689\u001b[0m         na_sentinel \u001b[38;5;241m=\u001b[39m \u001b[38;5;241m-\u001b[39m\u001b[38;5;241m1\u001b[39m\n\u001b[0;32m--> 690\u001b[0m     codes, uniques \u001b[38;5;241m=\u001b[39m \u001b[43malgorithms\u001b[49m\u001b[38;5;241;43m.\u001b[39;49m\u001b[43mfactorize\u001b[49m\u001b[43m(\u001b[49m\n\u001b[1;32m    691\u001b[0m \u001b[43m        \u001b[49m\u001b[38;5;28;43mself\u001b[39;49m\u001b[38;5;241;43m.\u001b[39;49m\u001b[43mgrouping_vector\u001b[49m\u001b[43m,\u001b[49m\u001b[43m \u001b[49m\u001b[43msort\u001b[49m\u001b[38;5;241;43m=\u001b[39;49m\u001b[38;5;28;43mself\u001b[39;49m\u001b[38;5;241;43m.\u001b[39;49m\u001b[43m_sort\u001b[49m\u001b[43m,\u001b[49m\u001b[43m \u001b[49m\u001b[43mna_sentinel\u001b[49m\u001b[38;5;241;43m=\u001b[39;49m\u001b[43mna_sentinel\u001b[49m\n\u001b[1;32m    692\u001b[0m \u001b[43m    \u001b[49m\u001b[43m)\u001b[49m\n\u001b[1;32m    693\u001b[0m \u001b[38;5;28;01mreturn\u001b[39;00m codes, uniques\n",
      "File \u001b[0;32m/Applications/anaconda3/lib/python3.9/site-packages/pandas/core/algorithms.py:763\u001b[0m, in \u001b[0;36mfactorize\u001b[0;34m(values, sort, na_sentinel, size_hint)\u001b[0m\n\u001b[1;32m    760\u001b[0m     \u001b[38;5;28;01melse\u001b[39;00m:\n\u001b[1;32m    761\u001b[0m         na_value \u001b[38;5;241m=\u001b[39m \u001b[38;5;28;01mNone\u001b[39;00m\n\u001b[0;32m--> 763\u001b[0m     codes, uniques \u001b[38;5;241m=\u001b[39m \u001b[43mfactorize_array\u001b[49m\u001b[43m(\u001b[49m\n\u001b[1;32m    764\u001b[0m \u001b[43m        \u001b[49m\u001b[43mvalues\u001b[49m\u001b[43m,\u001b[49m\u001b[43m \u001b[49m\u001b[43mna_sentinel\u001b[49m\u001b[38;5;241;43m=\u001b[39;49m\u001b[43mna_sentinel\u001b[49m\u001b[43m,\u001b[49m\u001b[43m \u001b[49m\u001b[43msize_hint\u001b[49m\u001b[38;5;241;43m=\u001b[39;49m\u001b[43msize_hint\u001b[49m\u001b[43m,\u001b[49m\u001b[43m \u001b[49m\u001b[43mna_value\u001b[49m\u001b[38;5;241;43m=\u001b[39;49m\u001b[43mna_value\u001b[49m\n\u001b[1;32m    765\u001b[0m \u001b[43m    \u001b[49m\u001b[43m)\u001b[49m\n\u001b[1;32m    767\u001b[0m \u001b[38;5;28;01mif\u001b[39;00m sort \u001b[38;5;129;01mand\u001b[39;00m \u001b[38;5;28mlen\u001b[39m(uniques) \u001b[38;5;241m>\u001b[39m \u001b[38;5;241m0\u001b[39m:\n\u001b[1;32m    768\u001b[0m     uniques, codes \u001b[38;5;241m=\u001b[39m safe_sort(\n\u001b[1;32m    769\u001b[0m         uniques, codes, na_sentinel\u001b[38;5;241m=\u001b[39mna_sentinel, assume_unique\u001b[38;5;241m=\u001b[39m\u001b[38;5;28;01mTrue\u001b[39;00m, verify\u001b[38;5;241m=\u001b[39m\u001b[38;5;28;01mFalse\u001b[39;00m\n\u001b[1;32m    770\u001b[0m     )\n",
      "File \u001b[0;32m/Applications/anaconda3/lib/python3.9/site-packages/pandas/core/algorithms.py:560\u001b[0m, in \u001b[0;36mfactorize_array\u001b[0;34m(values, na_sentinel, size_hint, na_value, mask)\u001b[0m\n\u001b[1;32m    557\u001b[0m hash_klass, values \u001b[38;5;241m=\u001b[39m _get_data_algo(values)\n\u001b[1;32m    559\u001b[0m table \u001b[38;5;241m=\u001b[39m hash_klass(size_hint \u001b[38;5;129;01mor\u001b[39;00m \u001b[38;5;28mlen\u001b[39m(values))\n\u001b[0;32m--> 560\u001b[0m uniques, codes \u001b[38;5;241m=\u001b[39m \u001b[43mtable\u001b[49m\u001b[38;5;241;43m.\u001b[39;49m\u001b[43mfactorize\u001b[49m\u001b[43m(\u001b[49m\n\u001b[1;32m    561\u001b[0m \u001b[43m    \u001b[49m\u001b[43mvalues\u001b[49m\u001b[43m,\u001b[49m\u001b[43m \u001b[49m\u001b[43mna_sentinel\u001b[49m\u001b[38;5;241;43m=\u001b[39;49m\u001b[43mna_sentinel\u001b[49m\u001b[43m,\u001b[49m\u001b[43m \u001b[49m\u001b[43mna_value\u001b[49m\u001b[38;5;241;43m=\u001b[39;49m\u001b[43mna_value\u001b[49m\u001b[43m,\u001b[49m\u001b[43m \u001b[49m\u001b[43mmask\u001b[49m\u001b[38;5;241;43m=\u001b[39;49m\u001b[43mmask\u001b[49m\n\u001b[1;32m    562\u001b[0m \u001b[43m\u001b[49m\u001b[43m)\u001b[49m\n\u001b[1;32m    564\u001b[0m codes \u001b[38;5;241m=\u001b[39m ensure_platform_int(codes)\n\u001b[1;32m    565\u001b[0m \u001b[38;5;28;01mreturn\u001b[39;00m codes, uniques\n",
      "File \u001b[0;32mpandas/_libs/hashtable_class_helper.pxi:5394\u001b[0m, in \u001b[0;36mpandas._libs.hashtable.PyObjectHashTable.factorize\u001b[0;34m()\u001b[0m\n",
      "File \u001b[0;32mpandas/_libs/hashtable_class_helper.pxi:5310\u001b[0m, in \u001b[0;36mpandas._libs.hashtable.PyObjectHashTable._unique\u001b[0;34m()\u001b[0m\n",
      "\u001b[0;31mTypeError\u001b[0m: unhashable type: 'numpy.ndarray'"
     ]
    }
   ],
   "source": [
    "df.groupby('transmission')['transmission'].count(). \\\n",
    "plot(kind='bar', rot=0, figsize=(7,4), title='Распределение коробки передач')\n",
    "plt.ylabel('Количество')\n",
    "plt.xlabel('Тип коробки передач');"
   ]
  },
  {
   "cell_type": "markdown",
   "id": "4b8489d2",
   "metadata": {},
   "source": [
    "**Преобладающее большинство проданных машин имеют автоматическую коробку передач.**"
   ]
  },
  {
   "cell_type": "markdown",
   "id": "d110e83d",
   "metadata": {},
   "source": [
    "##### Рассмотим данные столбца `state` (название штата):"
   ]
  },
  {
   "cell_type": "code",
   "execution_count": null,
   "id": "361d9c99",
   "metadata": {},
   "outputs": [],
   "source": [
    "df['state'].unique()"
   ]
  },
  {
   "cell_type": "markdown",
   "id": "460c59c7",
   "metadata": {},
   "source": [
    "**Название штатов в сокращенном виде, дубликаты отсутствуют.**"
   ]
  },
  {
   "cell_type": "markdown",
   "id": "5951713f",
   "metadata": {},
   "source": [
    "##### Рассмотим данные столбца `condition` (cостояние автомобилей на момент аукциона):"
   ]
  },
  {
   "cell_type": "code",
   "execution_count": null,
   "id": "b7091280",
   "metadata": {},
   "outputs": [],
   "source": [
    "df['condition'].unique()"
   ]
  },
  {
   "cell_type": "code",
   "execution_count": null,
   "id": "c82e4ded",
   "metadata": {},
   "outputs": [],
   "source": [
    "condition_count = df.groupby('condition')['condition'].count(). \\\n",
    "plot(kind='bar', figsize=(12, 4), title='Распределение количества оценок',\n",
    "    rot=45);\n",
    "plt.ylabel('Количество')\n",
    "plt.xlabel('Оценка автомобиля');"
   ]
  },
  {
   "cell_type": "code",
   "execution_count": null,
   "id": "26821dc6",
   "metadata": {
    "scrolled": true
   },
   "outputs": [],
   "source": [
    "df['condition'].describe()"
   ]
  },
  {
   "cell_type": "markdown",
   "id": "37d57588",
   "metadata": {},
   "source": [
    "Минимальная оценка автомобиля - 1, максимальная - 5, состояние от плохо до хорошего. </br>\n",
    "Медианное значение оценки - 3.6."
   ]
  },
  {
   "cell_type": "markdown",
   "id": "ec27e104",
   "metadata": {},
   "source": [
    "##### Рассмотим данные столбца `odometer` (расстояние, пройденное автомобилем с момента выпуска):"
   ]
  },
  {
   "cell_type": "code",
   "execution_count": null,
   "id": "3a1563bc",
   "metadata": {},
   "outputs": [],
   "source": [
    "df['odometer'].describe()"
   ]
  },
  {
   "cell_type": "code",
   "execution_count": null,
   "id": "ddc480e8",
   "metadata": {},
   "outputs": [],
   "source": [
    "plt.figure(figsize=(10, 6))\n",
    "sns.boxplot(x='odometer', y='year', data=df, orient='h')\n",
    "plt.xlabel('Пробег')\n",
    "plt.ylabel('Год выпуска')\n",
    "plt.title('Boxplot пробега для каждого года')\n",
    "plt.tight_layout()\n",
    "plt.show()"
   ]
  },
  {
   "cell_type": "markdown",
   "id": "e3147d9c",
   "metadata": {},
   "source": [
    "Наблюдаем выбросы в данных, пробег - 999999, явно ошибка заполнения. </br>\n",
    "Учитывая факт, что в 1 миле ~ 1.6 км, большинство проданных машин 2011 - 2015 года выпуска, а средний пробег у американских машин = 14.300 миль в год, удалим все значения, где пробег больше 190000.</br>\n",
    "Так же удалим все строки, где пробег меньше 50 км. Такой пробег у б/у машин маловереятен."
   ]
  },
  {
   "cell_type": "code",
   "execution_count": null,
   "id": "6c119252",
   "metadata": {},
   "outputs": [],
   "source": [
    "display(df.query('odometer > 170000')['year'].count())\n",
    "display(df.query('odometer < 750')['year'].count())\n",
    "print(f'Размер: {df.shape}')\n",
    "\n",
    "# удаление выбросов в 'odometer':\n",
    "def drop_odometr(df):\n",
    "    df.drop(df[(df['odometer'] > 350000)].index, inplace=True)\n",
    "\n",
    "# | (df['odometer'] < 750)].index, inplace=True)\n",
    "               \n",
    "               \n",
    "drop_odometr(df)\n",
    "\n",
    "# проверка:\n",
    "print(f'Проверка: {396296 - 9891 - 1048 == df.shape[0]}')"
   ]
  },
  {
   "cell_type": "code",
   "execution_count": null,
   "id": "30595518",
   "metadata": {},
   "outputs": [],
   "source": [
    "plt.figure(figsize=(10, 6))\n",
    "sns.boxplot(x='odometer', y='year', data=df, orient='h')\n",
    "plt.xlabel('Пробег')\n",
    "plt.ylabel('Год выпуска')\n",
    "plt.title('Boxplot пробега для каждого года')\n",
    "plt.tight_layout()\n",
    "plt.show()"
   ]
  },
  {
   "cell_type": "code",
   "execution_count": null,
   "id": "fce16e56",
   "metadata": {},
   "outputs": [],
   "source": [
    "# # функция заполнения выбивающихся значений 'odometer' медианой:\n",
    "# def replace_outliers_with_median(df, column_name, groupby_columns, \n",
    "#                                  z_threshold=3, iqr_threshold=1.5):\n",
    "    \n",
    "#     # создадим сводную таблицу с медианными значениями:\n",
    "#     pivot_table = df.pivot_table(index=groupby_columns, values=column_name, aggfunc='median')\n",
    "\n",
    "#     # объединим сводную таблицу с исходной таблицей по ключевым полям:\n",
    "#     df = df.merge(pivot_table, how='left', left_on=groupby_columns, \n",
    "#                   right_index=True, suffixes=('', '_median'))\n",
    "\n",
    "#     # рассчитаем z-оценки и IQR:\n",
    "#     df['z_score'] = zscore(df[column_name])\n",
    "#     df['iqr'] = df.groupby(groupby_columns)[column_name]. \\\n",
    "#                 transform(lambda x: iqr(x, nan_policy='omit'))\n",
    "\n",
    "#     # заменим выбросы медианными значениями:\n",
    "#     outlier_condition = (df['z_score'] > z_threshold) | \\\n",
    "#                         (df[column_name] > df[column_name + '_median'] + iqr_threshold * df['iqr']) \n",
    "#    # | \\(df[column_name] < df[column_name + '_median'] - iqr_threshold * df['iqr'])\n",
    "#     df.loc[outlier_condition, column_name] = df.loc[outlier_condition, column_name + '_median']\n",
    "\n",
    "#     # удалим временные столбцы:\n",
    "#     df.drop([column_name + '_median', 'z_score', 'iqr'], axis=1, inplace=True)\n",
    "    \n",
    "#     print('Количество выбросов в признаке \"пробег\":', outlier_condition.sum())\n",
    "#     return df\n",
    "\n",
    "# df = replace_outliers_with_median(df, 'odometer', ['make', 'model', 'year'])\n",
    "# #df = replace_outliers_with_median(df, 'odometer', ['make', 'model', 'year'])"
   ]
  },
  {
   "cell_type": "code",
   "execution_count": null,
   "id": "8c6c6e09",
   "metadata": {},
   "outputs": [],
   "source": [
    "# функция удаления выбивающихся значений 'odometer':\n",
    "def drop_outliers(df, column_name, groupby_columns, \n",
    "                                 z_threshold=3, iqr_threshold=1.5):\n",
    "    \n",
    "    # создадим сводную таблицу с медианными значениями:\n",
    "    pivot_table = df.pivot_table(index=groupby_columns, values=column_name, aggfunc='median')\n",
    "\n",
    "    # объединим сводную таблицу с исходной таблицей по ключевым полям:\n",
    "    df = df.merge(pivot_table, how='left', left_on=groupby_columns, \n",
    "                  right_index=True, suffixes=('', '_median'))\n",
    "\n",
    "    # рассчитаем z-оценки и IQR:\n",
    "    df['z_score'] = np.abs(zscore(df[column_name]))\n",
    "    df['iqr'] = df.groupby(groupby_columns)[column_name]. \\\n",
    "                transform(lambda x: iqr(x, nan_policy='omit'))\n",
    "\n",
    "    # заменим выбросы медианными значениями:\n",
    "    outlier_condition = (df['z_score'] > z_threshold) | \\\n",
    "                        (df[column_name] > df[column_name + '_median'] + iqr_threshold * df['iqr']) | \\\n",
    "                        (df[column_name] < df[column_name + '_median'] - iqr_threshold * df['iqr'])\n",
    "    df = df[~outlier_condition]\n",
    "\n",
    "    # удалим временные столбцы:\n",
    "    df.drop([column_name + '_median', 'z_score', 'iqr'], axis=1, inplace=True)\n",
    "    \n",
    "    print('Количество выбросов в признаке \"пробег\":', outlier_condition.sum())\n",
    "    return df\n",
    "\n",
    "df = drop_outliers(df, 'odometer', ['make', 'model', 'year'])\n",
    "#df = replace_outliers_with_median(df, 'odometer', ['make', 'model', 'year'])"
   ]
  },
  {
   "cell_type": "code",
   "execution_count": null,
   "id": "61479484",
   "metadata": {},
   "outputs": [],
   "source": [
    "plt.figure(figsize=(10, 6))\n",
    "sns.boxplot(x='odometer', y='year', data=df, orient='h')\n",
    "plt.xlabel('Пробег')\n",
    "plt.ylabel('Год выпуска')\n",
    "plt.title('Boxplot пробега для каждого года')\n",
    "plt.tight_layout()\n",
    "plt.show()"
   ]
  },
  {
   "cell_type": "code",
   "execution_count": null,
   "id": "bef730d6",
   "metadata": {},
   "outputs": [],
   "source": [
    "df.shape"
   ]
  },
  {
   "cell_type": "code",
   "execution_count": null,
   "id": "ef5a393f",
   "metadata": {},
   "outputs": [],
   "source": [
    "# # удаление выбросов в 'odometer':\n",
    "# def drop_odometr_2(df):\n",
    "#     df.drop(df[(df['odometer'] > 260000)].index, inplace=True)\n",
    "\n",
    "# drop_odometr_2(df)"
   ]
  },
  {
   "cell_type": "code",
   "execution_count": null,
   "id": "8c9ff1cf",
   "metadata": {},
   "outputs": [],
   "source": [
    "df.shape"
   ]
  },
  {
   "cell_type": "markdown",
   "id": "ff29ba74",
   "metadata": {},
   "source": [
    "# ПОДУМАТЬ КАКИЕ УДАЛИТЬ "
   ]
  },
  {
   "cell_type": "markdown",
   "id": "4735fcf1",
   "metadata": {},
   "source": [
    "##### Рассмотим данные столбца `color` (цвет кузова автомобиля):"
   ]
  },
  {
   "cell_type": "code",
   "execution_count": null,
   "id": "96d78272",
   "metadata": {},
   "outputs": [],
   "source": [
    "color_count = pd.DataFrame(df['color'].value_counts())\n",
    "display(color_count.T)\n",
    "\n",
    "color_count['percent'] = (color_count['color'] / \n",
    "                          (color_count['color'].sum())) * 100\n",
    "\n",
    "color_count['percent'].plot(kind='bar', figsize=(12, 4), \n",
    "                            title='Распределение цветов кузова в процентах',\n",
    "                            rot=45);\n",
    "plt.ylabel('Процент')\n",
    "plt.xlabel('Цвет');"
   ]
  },
  {
   "cell_type": "markdown",
   "id": "7425d908",
   "metadata": {},
   "source": [
    "**Самые популярные цвета кузова - черный и белый, самые редкие - розовый и лайм.**"
   ]
  },
  {
   "cell_type": "markdown",
   "id": "49c4074d",
   "metadata": {},
   "source": [
    "##### Рассмотим данные столбца `interior` (цвет салона автомобиля):"
   ]
  },
  {
   "cell_type": "code",
   "execution_count": null,
   "id": "9dc3d09a",
   "metadata": {},
   "outputs": [],
   "source": [
    "color_count = pd.DataFrame(df['interior'].value_counts())\n",
    "display(color_count.T)\n",
    "\n",
    "color_count['percent'] = (color_count['interior'] / \n",
    "                          (color_count['interior'].sum())) * 100\n",
    "\n",
    "color_count['percent'].plot(kind='bar', figsize=(12, 4), \n",
    "                            title='Распределение цветов салона в процентах',\n",
    "                            rot=45);\n",
    "plt.ylabel('Процент')\n",
    "plt.ylabel('Цвет');"
   ]
  },
  {
   "cell_type": "markdown",
   "id": "574a28c1",
   "metadata": {},
   "source": [
    "**Самый популярный цвет салона - черный, самый редкий - желтый.**"
   ]
  },
  {
   "cell_type": "markdown",
   "id": "b2a51371",
   "metadata": {},
   "source": [
    "##### Рассмотим данные столбца `sellingprice` (цена, по которой автомобиль был продан на аукционе):"
   ]
  },
  {
   "cell_type": "code",
   "execution_count": null,
   "id": "7e6c25cb",
   "metadata": {
    "scrolled": true
   },
   "outputs": [],
   "source": [
    "df['sellingprice'].describe()"
   ]
  },
  {
   "cell_type": "code",
   "execution_count": null,
   "id": "d8761c92",
   "metadata": {},
   "outputs": [],
   "source": [
    "# сетка для графика\n",
    "fig, axs = plt.subplots(1, 2, figsize=(12, 4))\n",
    "\n",
    "# левая гистограмма \n",
    "axs[0].hist(df['sellingprice'], bins=20, range=(0, 500), color='blue')\n",
    "axs[0].set_title('Распределение автомобилей по стоимости в диапазоне 0-500 $')\n",
    "axs[0].set_xlabel('Цена')\n",
    "axs[0].set_ylabel('Количество')\n",
    "\n",
    "# правая гистограмма \n",
    "axs[1].hist(df['sellingprice'], bins=20, range=(200000, 230000), color='orange')\n",
    "axs[1].set_title('Распределение автомобилей по стоимости в диапазоне 200000 -230000 $')\n",
    "axs[1].set_xlabel('Цена')\n",
    "\n",
    "plt.tight_layout()\n",
    "plt.show()"
   ]
  },
  {
   "cell_type": "markdown",
   "id": "b7191c29",
   "metadata": {},
   "source": [
    "**На американских сайтах по продаже автомобилей, минимальная стоимость автомобиля составляет 500 долларов, можно  предположить, что это не правильно введенные данные. `sellingprice` является целевым признаком и в тестовых данных он отсутвует, поэтому удалять мы эти сроки не будем.**"
   ]
  },
  {
   "cell_type": "code",
   "execution_count": null,
   "id": "677cc852",
   "metadata": {},
   "outputs": [],
   "source": [
    "plt.figure(figsize=(10, 4))\n",
    "plt.scatter(y=df['sellingprice'], x=df['year'])\n",
    "plt.title('Распределение стоимости автомобиля по годам')\n",
    "plt.xlabel('Год')\n",
    "plt.ylabel('Стоимость');"
   ]
  },
  {
   "cell_type": "code",
   "execution_count": null,
   "id": "f1533683",
   "metadata": {},
   "outputs": [],
   "source": [
    "plt.figure(figsize=(10, 6))\n",
    "sns.boxplot(x='sellingprice', y='year', data=df, orient='h')\n",
    "plt.xlabel('Год выпуска')\n",
    "plt.ylabel('Стоиомость')\n",
    "plt.title('Boxplot стоимости для каждого года')\n",
    "plt.tight_layout()\n",
    "plt.show()"
   ]
  },
  {
   "cell_type": "markdown",
   "id": "879cdb7a",
   "metadata": {},
   "source": [
    "**Стоимость автомобиля зависит от года выпуска, чем позже выпуск, тем больше его стоимость, так же на графике наблюдаем выбросы.**"
   ]
  },
  {
   "cell_type": "markdown",
   "id": "fb59520f",
   "metadata": {},
   "source": [
    "#### Создание новых признаков"
   ]
  },
  {
   "cell_type": "code",
   "execution_count": null,
   "id": "034b4fba",
   "metadata": {},
   "outputs": [],
   "source": [
    "dict_country =  {'2' : 'Canada', '3' : 'Mexico', '5' : 'United States',\n",
    "                     '1' : 'United States', 'k' : 'South Korea', 'j' : 'Japan',\n",
    "                     'y' : 'Finland', '4' : 'United States', 'w' : 'Germany',\n",
    "                     's' : 'United Kingdom', '9' : 'Brazil', 'z' : 'Italy',\n",
    "                     'n' : 'Serbia', 'm' : 'India', 't' : 'Switzerland',\n",
    "                     '6' : 'Australia', 'v': 'France'}\n",
    "\n",
    "# создание новых признаков:\n",
    "def new_columns(df):\n",
    "\n",
    "#     # разделим признак \"количество лет\" на 3 группы (новая, средняя, старая):\n",
    "#     df['year_category'] = pd.cut(df['year_count'], \n",
    "#                              bins=[-1, 4, 8, 13, 26],\n",
    "#                              labels=[1, 2, 3, 4])\n",
    "\n",
    "    # разделим признак \"пробег\" на 5 групп:\n",
    "    df['odometer_category'] = pd.cut(df['odometer'], \n",
    "                                bins=[0, 15000, 38000, 79000,\n",
    "                                      135000, 254000], labels=[1, 2, 3, 4, 5])\n",
    "    # страна производства автомобиля:\n",
    "    df['country_of_origin'] = df['vin'].apply(lambda x: x[0:1]).replace(dict_country)\n",
    "\n",
    "new_columns(df)   "
   ]
  },
  {
   "cell_type": "code",
   "execution_count": null,
   "id": "ea6c2fbb",
   "metadata": {},
   "outputs": [],
   "source": []
  },
  {
   "cell_type": "code",
   "execution_count": null,
   "id": "5018432e",
   "metadata": {},
   "outputs": [],
   "source": [
    "df['odometer'].describe()"
   ]
  },
  {
   "cell_type": "code",
   "execution_count": null,
   "id": "6b665717",
   "metadata": {},
   "outputs": [],
   "source": []
  },
  {
   "cell_type": "code",
   "execution_count": null,
   "id": "dcbc9145",
   "metadata": {},
   "outputs": [],
   "source": []
  },
  {
   "cell_type": "markdown",
   "id": "3bba9260",
   "metadata": {},
   "source": [
    "#### Матрица корреляции"
   ]
  },
  {
   "cell_type": "code",
   "execution_count": null,
   "id": "1b955384",
   "metadata": {
    "scrolled": false
   },
   "outputs": [],
   "source": [
    "# phik = df.drop(['year', 'vin', 'saledate', 'seller', 'year_sale' ], axis=1).phik_matrix();\n",
    "# sns.set(rc={'figure.figsize':(14, 14)});\n",
    "# sns.heatmap(phik, annot=True, cmap='coolwarm', fmt='.2f');"
   ]
  },
  {
   "cell_type": "markdown",
   "id": "22f5603f",
   "metadata": {},
   "source": [
    "По матрице корреляции, можем наблюдать, наличие мультиколлинеарности признаков. Присутсвие этих факторов не повлияют на обучение наших моделей, поэтому удалять мы их не будем."
   ]
  },
  {
   "cell_type": "markdown",
   "id": "44f64d3b",
   "metadata": {},
   "source": [
    "### Оптимизация используемой памяти"
   ]
  },
  {
   "cell_type": "code",
   "execution_count": null,
   "id": "bc61ae88",
   "metadata": {},
   "outputs": [],
   "source": [
    "# новый DF для сравнения результатов:\n",
    "converted_obj = pd.DataFrame()\n",
    "\n",
    "# проверяем, если уникальных значений в столбцах 'object' менее 50%, \n",
    "# то оптимизируем их в 'category'%:\n",
    "s = []\n",
    "for col in df.columns:\n",
    "    num_unique_values = len(df[col].unique())\n",
    "    num_total_values = len(df[col])\n",
    "    if num_unique_values / num_total_values < 0.5 and df[col].dtype == 'O':\n",
    "        converted_obj.loc[:,col] = df[col].astype('category')\n",
    "        s.append(col)\n",
    "    else:\n",
    "        converted_obj.loc[:,col] = df[col]\n",
    "print('Признаки, которые рекомендуется перевести в тип `category`:', s)"
   ]
  },
  {
   "cell_type": "code",
   "execution_count": null,
   "id": "94bbcbbe",
   "metadata": {},
   "outputs": [],
   "source": [
    "# оптимизация памяти, изменение типов данных:\n",
    "def memory_usage_optimization(df):\n",
    "\n",
    "    print(f'До оптимизации столбцов: \\\n",
    "    {round(df.memory_usage(deep=True).sum() / (1024 ** 2), 2)} MB')\n",
    "\n",
    "    # удаление не нужных признаков:\n",
    "    df.drop(['year', 'vin', 'seller', 'saledate', 'year_sale'], \n",
    "            axis=1, inplace=True)\n",
    "    \n",
    "    # изменение типов данных:\n",
    "    col_types = {'make' : 'category', 'model' : 'category', \n",
    "                 'trim' : 'category', 'body' : 'category', \n",
    "                 'transmission' : 'category', 'color' :'category', \n",
    "                 'interior' : 'category', 'country_of_origin' : 'category',\n",
    "                 'state' : 'category', 'condition' : 'float32',\n",
    "                 'odometer' : 'float32', 'year_count' : 'int32',\n",
    "                 #'year_category' : 'int32', \n",
    "                 'odometer_category' : 'int32'}\n",
    "\n",
    "    df = df.astype(col_types)\n",
    "\n",
    "    print(f'После оптимизации столбцов: \\\n",
    "    {round(df.memory_usage(deep=True).sum() / (1024 ** 2), 2)} MB')\n",
    "    \n",
    "    return df\n",
    "\n",
    "df = memory_usage_optimization(df)"
   ]
  },
  {
   "cell_type": "markdown",
   "id": "9b3ae745",
   "metadata": {},
   "source": [
    "### Обучение моделей"
   ]
  },
  {
   "cell_type": "markdown",
   "id": "1b3e67c8",
   "metadata": {},
   "source": [
    "#### Приведение тестовой выборки в соответствии с тренировочной:"
   ]
  },
  {
   "cell_type": "code",
   "execution_count": null,
   "id": "d5f0a199",
   "metadata": {
    "scrolled": true
   },
   "outputs": [],
   "source": [
    "# заполнение пропущенных значений цвета кузова и интерьера на `unknown`        \n",
    "fill_color_interior(df_test, columns=['color', 'interior'])\n",
    "# проверка\n",
    "print('Количество пропусков в цвете кузова:', df_test['color'].isna().sum()) \n",
    "print('Количество пропусков в цвете интерьера:', df_test['interior'].isna().sum())\n",
    "\n",
    "\n",
    "# изменение типа колонки `saledate`:   \n",
    "upgrade_saledate(df_test)\n",
    "\n",
    "\n",
    "# создадим новый признак \"количество лет\" автомобилю:   \n",
    "year_count(df_test)\n",
    "\n",
    "\n",
    "# преобразование марки автомобиля `make`:\n",
    "df_test['make'] = df_test['make'].fillna('make')\n",
    "upgrade_make(df_test, 'make')\n",
    "# проверка:\n",
    "print(sorted(df_test['make'].unique()))\n",
    "\n",
    "\n",
    "# удаление всех слов в модели, кроме первого:\n",
    "df_test['model'] = df_test['model'].fillna('unknow')\n",
    "before_model = df_test['model'].nunique()\n",
    "def upgrade_model_test(df):\n",
    "    #df = df.astype(str)\n",
    "    return ' '.join(df.lower().split()[0:1])\n",
    "df_test['model'] = df_test['model'].apply(upgrade_model_test)\n",
    "\n",
    "# замена некоторых значений у модели автомобиля:\n",
    "df_test['model'] = df_test['model'].replace(replace_dict_model)\n",
    "print('Количество уникальных моделей до преобразования:', \n",
    "      before_model)\n",
    "print(60*'-')\n",
    "print('Количество уникальных моделей после преобразования:', \n",
    "      df_test['model'].nunique())\n",
    "\n",
    "\n",
    "# преобразование заполнение пропущенных trim \n",
    "df_test['trim'] = df_test['trim'].fillna('unknow')\n",
    "before_trim = df_test['trim'].nunique()\n",
    "\n",
    "def upgrade_trim(df):\n",
    "    return ' '.join(df.lower().split()[0:1])\n",
    "\n",
    "df_test['trim'] = df_test['trim'].apply(upgrade_trim)\n",
    "print(60*'-')\n",
    "print('Количество уникальных версий до преобразования:', \n",
    "      before_trim)\n",
    "print('Количество уникальных версий после преобразования:', \n",
    "      df_test['trim'].nunique())\n",
    "\n",
    "\n",
    "# изменение вариации типов кузова на стандартные названия:\n",
    "count_unique_body = df_test['body'].nunique()\n",
    "df_test['body'] = df_test['body'].str.lower().astype(str)\n",
    "df_test['body'] = df_test['body'].apply(upgrade_body)\n",
    "\n",
    "print(60*'-')\n",
    "print('Количество уникальных кузовов до преобразования:',\n",
    "      count_unique_body)\n",
    "print('Количество уникальных кузовов после преобразования:',\n",
    "      df_test['body'].nunique())\n",
    "\n",
    "print(df_test['body'].unique())\n",
    "\n",
    "\n",
    "# заполнение пропущенных значений кузова модой:\n",
    "# самый часто встречающийся кузов у моделей - мода\n",
    "body_dict = df_test.groupby('model')['body'].agg(pd.Series.mode)\n",
    "\n",
    "# замена пропущенных значений на моду\n",
    "df_test['body'] = df_test.apply(lambda x: body_dict[x['model']]\n",
    "                                if x['body'] == 'nan'\n",
    "                                else x['body'], axis=1)\n",
    "# проверка:\n",
    "print(df_test['body'].value_counts())\n",
    "\n",
    "\n",
    "# создание новых признаков:\n",
    "new_columns(df_test)\n",
    "\n",
    "# заполнение пропущенных значений \"средним\" признаков 'condition', 'odometer': \n",
    "numeric_columns = ['condition', 'odometer']\n",
    "for col in numeric_columns:\n",
    "    df_test[col].fillna(df_test[col].mean(), inplace=True)\n",
    " \n",
    "# заполнение пропущенных значений \"целым средним\" признаков 'odometer_category', 'year_category': \n",
    "int_columns = ['odometer_category', 'year_category']\n",
    "df_test[int_columns] = df_test[int_columns].astype('float32')\n",
    "for col in int_columns:\n",
    "    df_test[col].fillna(int(df_test[col].mean()), inplace=True)\n",
    "    \n",
    "# заполнение пропущенных значений 'transmission' самым частым: \n",
    "df_test['transmission'] = df_test['transmission'].fillna('automatic')\n",
    "\n",
    "# функция заполнения выбивающихся значений 'odometer' медианой:\n",
    "#df_test = replace_outliers_with_median(df_test, 'odometer', ['make', 'model', 'year'])\n",
    "#df_test = replace_outliers_with_median(df_test, 'odometer', ['make', 'model', 'year'])\n",
    "\n",
    "\n",
    "\n",
    "# оптимизация памяти, изменение типов данных:\n",
    "df_test = memory_usage_optimization(df_test)"
   ]
  },
  {
   "cell_type": "markdown",
   "id": "c3bbf508",
   "metadata": {},
   "source": [
    "#### Преобразование признаков:"
   ]
  },
  {
   "cell_type": "code",
   "execution_count": null,
   "id": "2c23a948",
   "metadata": {},
   "outputs": [],
   "source": [
    "category_columns = df.select_dtypes(include='category').columns.to_list()\n",
    "\n",
    "# выделим признаки\n",
    "features = df.drop(['sellingprice'], axis =1)\n",
    "target = df['sellingprice']\n",
    "\n",
    "# функция для MAPE\n",
    "def mean_absolute_percentage_error(y_true, y_pred):\n",
    "    return np.mean(np.abs((y_true - y_pred) / y_true)) * 100\n",
    "\n",
    "# cоздание scorer на основе вашей функции\n",
    "mape_scorer = make_scorer(mean_absolute_percentage_error, greater_is_better=False)"
   ]
  },
  {
   "cell_type": "markdown",
   "id": "4b5e73c2",
   "metadata": {},
   "source": [
    "#### Построим модель `LinearRegression`:"
   ]
  },
  {
   "cell_type": "code",
   "execution_count": null,
   "id": "e6a2e925",
   "metadata": {},
   "outputs": [],
   "source": [
    "numeric = df.select_dtypes(include=['float32', 'int32']).columns.to_list()\n",
    "\n",
    "features_oe = features.copy()\n",
    "test_oe = df_test.copy()\n",
    "\n",
    "# кодирование категориальных признаков\n",
    "encoder = OrdinalEncoder(handle_unknown='use_encoded_value', unknown_value=-1)\n",
    "\n",
    "# применим к тренировочным признакам и тестовым\n",
    "features_oe[category_columns] = encoder.fit_transform(features_oe[category_columns])\n",
    "test_oe[category_columns] = encoder.transform(test_oe[category_columns])\n",
    "\n",
    "# масштабирование признаков:\n",
    "scaler = StandardScaler()\n",
    "\n",
    "features_oe[numeric] = scaler.fit_transform(features_oe[numeric])\n",
    "test_oe[numeric] = scaler.transform(test_oe[numeric])"
   ]
  },
  {
   "cell_type": "code",
   "execution_count": null,
   "id": "a158eef1",
   "metadata": {},
   "outputs": [],
   "source": [
    "%%time\n",
    "\n",
    "rid = Ridge()\n",
    "\n",
    "# Параметры для перебора\n",
    "parameters = {'alpha': np.arange(0.001, 0.01, 0.001)}\n",
    "\n",
    "# Создаем объект GridSearchCV\n",
    "grid_search_rid = GridSearchCV(rid, parameters, \n",
    "                              scoring=mape_scorer, cv=5)\n",
    "\n",
    "grid_search_rid.fit(features_oe, target)"
   ]
  },
  {
   "cell_type": "code",
   "execution_count": null,
   "id": "db83187f",
   "metadata": {},
   "outputs": [],
   "source": [
    "best_params_rid = grid_search_rid.best_params_\n",
    "best_score_rid = -grid_search_rid.best_score_\n",
    "best_model_rid = grid_search_rid.best_estimator_\n",
    "\n",
    "print(f'Лучшая модель LinearRegression:')\n",
    "print(best_params_rid)\n",
    "print(85*'-')\n",
    "print(f'MAPE: {best_score_rid:.3f}')\n",
    "print(85*'-')"
   ]
  },
  {
   "cell_type": "markdown",
   "id": "a2bd9b65",
   "metadata": {},
   "source": [
    "#### Построим модель `LGBMRegressor`:"
   ]
  },
  {
   "cell_type": "code",
   "execution_count": null,
   "id": "b037177d",
   "metadata": {},
   "outputs": [],
   "source": [
    "%%time\n",
    "#подбор параметров\n",
    "# parameters = {#'max_depth' : [10, 11, 12],\n",
    "#              'num_leaves': [400, 425],\n",
    "#               #'learning_rate' : np.arange(0.01, 0.24, 0.02),\n",
    "#              'n_estimators': [250, 275, 300]}\n",
    "\n",
    "model = LGBMRegressor(boosting_type='gbdt', random_state = 111,\n",
    "                      categorical_feature = category_columns,\n",
    "                      n_jobs=-1)\n",
    "\n",
    "grid_search_lgbm = GridSearchCV(estimator=model, param_grid=parameters, \n",
    "                                scoring=mape_scorer, cv=5)\n",
    "\n",
    "grid_search_lgbm.fit(features, target)"
   ]
  },
  {
   "cell_type": "code",
   "execution_count": null,
   "id": "d068844d",
   "metadata": {
    "scrolled": true
   },
   "outputs": [],
   "source": [
    "best_params_lgbm = grid_search_lgbm.best_params_\n",
    "best_score_lgbm = -grid_search_lgbm.best_score_\n",
    "best_model_lgbm = grid_search_lgbm.best_estimator_\n",
    "\n",
    "print(f'Лучшая модель LGBMRegressor:')\n",
    "print(best_params_lgbm)\n",
    "print(85*'-')\n",
    "print(f'MAPE: {best_score_lgbm:.3f}')\n",
    "print(85*'-')"
   ]
  },
  {
   "cell_type": "code",
   "execution_count": null,
   "id": "21a35f06",
   "metadata": {},
   "outputs": [],
   "source": [
    "# Лучшая модель LGBMRegressor:\n",
    "# {'n_estimators': 325, 'num_leaves': 400}\n",
    "# -------------------------------------------------------------------------------------\n",
    "# MAPE: 12.257\n",
    "# -------------------------------------------------------------------------------------\n",
    "\n",
    "\n",
    "# Лучшая модель LGBMRegressor:\n",
    "# {'n_estimators': 375, 'num_leaves': 400}\n",
    "# -------------------------------------------------------------------------------------\n",
    "# MAPE: 12.340\n",
    "\n",
    "# Лучшая модель LGBMRegressor:\n",
    "# {'max_depth': 11, 'n_estimators': 400, 'num_leaves': 500}\n",
    "# -------------------------------------------------------------------------------------\n",
    "# MAPE: 12.664"
   ]
  },
  {
   "cell_type": "code",
   "execution_count": null,
   "id": "85847cf0",
   "metadata": {},
   "outputs": [],
   "source": []
  },
  {
   "cell_type": "code",
   "execution_count": null,
   "id": "7457c219",
   "metadata": {},
   "outputs": [],
   "source": [
    "# import matplotlib.pyplot as plt\n",
    "# from sklearn.model_selection import validation_curve\n",
    "\n",
    "# # Используйте свои результаты grid_search_lgbm и данные features, target\n",
    "# param_name = 'num_leaves'  # Замените на один из параметров из вашего словаря parameters\n",
    "# param_range = [50, 1000]  # Замените на значения, которые вы тестируете в параметре max_depth\n",
    "\n",
    "# train_scores, test_scores = validation_curve(grid_search_lgbm.best_estimator_, features, target, \n",
    "#                                              param_name=param_name, param_range=param_range, cv=5,\n",
    "#                                              scoring=-mape_scorer)\n",
    "# train_scores_mean = np.mean(train_scores, axis=1)\n",
    "# test_scores_mean = np.mean(test_scores, axis=1)\n",
    "\n",
    "# plt.figure(figsize=(10, 6))\n",
    "# plt.plot(param_range, train_scores_mean, label='Train')\n",
    "# plt.plot(param_range, test_scores_mean, label='Validation')\n",
    "# plt.xlabel(param_name)\n",
    "# plt.ylabel('Score (MAPE)')\n",
    "# plt.title('Validation Curves for ' + param_name)\n",
    "# plt.legend()\n",
    "# plt.show()\n"
   ]
  },
  {
   "cell_type": "markdown",
   "id": "91ff18ed",
   "metadata": {},
   "source": [
    "#### Построим модель `CatBoostRegressor`:"
   ]
  },
  {
   "cell_type": "code",
   "execution_count": null,
   "id": "aa6948a1",
   "metadata": {
    "scrolled": true
   },
   "outputs": [],
   "source": [
    "# %%time\n",
    "\n",
    "# #укажем категориальные переменные\n",
    "# cat_features = category_columns\n",
    "\n",
    "# parameters = {'max_depth' : [10, 13, 15]}\n",
    "# #               'iterations': [75],\n",
    "# #               'learning_rate':  np.arange(0.06, 0.14, 0.02)}\n",
    "# #               'border_count': [32, 64, 128]}\n",
    "\n",
    "# cbr = CatBoostRegressor(cat_features=category_columns,\n",
    "#                         random_seed = 111, \n",
    "#                         iterations = 100, verbose=False,\n",
    "#                         early_stopping_rounds=50)\n",
    "\n",
    "# gried_search_cbr = GridSearchCV(cbr, parameters, cv=5, n_jobs=-1,\n",
    "#                                scoring=mape_scorer)\n",
    "\n",
    "# gried_search_cbr.fit(features, target)"
   ]
  },
  {
   "cell_type": "code",
   "execution_count": null,
   "id": "16137512",
   "metadata": {
    "scrolled": true
   },
   "outputs": [],
   "source": [
    "# best_params_cbr = gried_search_cbr.best_params_\n",
    "# best_score_cbr = -gried_search_cbr.best_score_\n",
    "# best_model_cbr = gried_search_cbr.best_estimator_\n",
    "\n",
    "# print(best_params_cbr)\n",
    "# print(85*'-')\n",
    "# print(f'MAPE: {best_score_cbr:.3f}')\n",
    "# print(85*'-')"
   ]
  },
  {
   "cell_type": "code",
   "execution_count": null,
   "id": "44f0d9a7",
   "metadata": {},
   "outputs": [],
   "source": [
    "# {'max_depth': 10}\n",
    "# -------------------------------------------------------------------------------------\n",
    "# MAPE: 15.097\n",
    "\n",
    "\n",
    "\n",
    "# {'iterations': 75, 'learning_rate': 0.14, 'max_depth': 15}\n",
    "# -------------------------------------------------------------------------------------\n",
    "# MAPE: 15.142\n",
    "\n",
    "# {'iterations': 75, 'learning_rate': 0.2, 'max_depth': 13}\n",
    "# -------------------------------------------------------------------------------------\n",
    "# MAPE: 15.186"
   ]
  },
  {
   "cell_type": "code",
   "execution_count": null,
   "id": "2235eba0",
   "metadata": {},
   "outputs": [],
   "source": []
  },
  {
   "cell_type": "markdown",
   "id": "5fbc3c59",
   "metadata": {},
   "source": [
    "### Важность признаков"
   ]
  },
  {
   "cell_type": "code",
   "execution_count": null,
   "id": "7203f9b3",
   "metadata": {},
   "outputs": [],
   "source": [
    "# важность признаков:\n",
    "feature_importance = best_model_lgbm.feature_importances_\n",
    "\n",
    "feature_importance = pd.DataFrame({'feature': features.columns, 'importance': feature_importance})\n",
    "feature_importance = feature_importance.sort_values(by='importance', ascending=False)\\\n",
    "                                                    .reset_index(drop=True)\n",
    "\n",
    "feature_importance"
   ]
  },
  {
   "cell_type": "markdown",
   "id": "ef6ba901",
   "metadata": {},
   "source": [
    "### Тестирование модели"
   ]
  },
  {
   "cell_type": "markdown",
   "id": "4919816e",
   "metadata": {},
   "source": [
    "Проведем тестирование лучшей модели - `CatBoostClassifier`:"
   ]
  },
  {
   "cell_type": "code",
   "execution_count": null,
   "id": "c4420d17",
   "metadata": {},
   "outputs": [],
   "source": [
    "df_test.shape[0]"
   ]
  },
  {
   "cell_type": "code",
   "execution_count": null,
   "id": "255dbace",
   "metadata": {},
   "outputs": [],
   "source": [
    "# Предсказание на тестовых данных с использованием наилучшей модели из GridSearch\n",
    "test_predictions = best_model_lgbm.predict(df_test)\n",
    "\n",
    "# Создание DataFrame с предсказаниями и идентификаторами\n",
    "predictions_df = pd.DataFrame({\n",
    "    'vin': test['vin'], \n",
    "    'sellingprice': test_predictions\n",
    "})\n",
    "\n",
    "# Вывод DataFrame с предсказаниями\n",
    "print(predictions_df.head(10))"
   ]
  },
  {
   "cell_type": "code",
   "execution_count": null,
   "id": "b09bb835",
   "metadata": {},
   "outputs": [],
   "source": [
    "# Сохранение предсказаний в CSV-файл\n",
    "predictions_df.to_csv('predictions_lgbm.csv', index=False)"
   ]
  },
  {
   "cell_type": "code",
   "execution_count": null,
   "id": "f541a4c4",
   "metadata": {},
   "outputs": [],
   "source": []
  },
  {
   "cell_type": "code",
   "execution_count": null,
   "id": "09e6ed51",
   "metadata": {},
   "outputs": [],
   "source": []
  },
  {
   "cell_type": "code",
   "execution_count": null,
   "id": "bc856ab7",
   "metadata": {},
   "outputs": [],
   "source": []
  },
  {
   "cell_type": "code",
   "execution_count": null,
   "id": "6890961a",
   "metadata": {},
   "outputs": [],
   "source": []
  },
  {
   "cell_type": "code",
   "execution_count": null,
   "id": "c78fdacf",
   "metadata": {},
   "outputs": [],
   "source": []
  },
  {
   "cell_type": "code",
   "execution_count": null,
   "id": "cf3db69d",
   "metadata": {},
   "outputs": [],
   "source": []
  },
  {
   "cell_type": "code",
   "execution_count": null,
   "id": "22be3f4c",
   "metadata": {},
   "outputs": [],
   "source": []
  },
  {
   "cell_type": "code",
   "execution_count": null,
   "id": "0a87d58a",
   "metadata": {},
   "outputs": [],
   "source": []
  },
  {
   "cell_type": "markdown",
   "id": "65a3dfdb",
   "metadata": {},
   "source": [
    "audi\tallroad\t\t35\n",
    "24\taudi\tallroad\tquattro\t24 - удалить\n",
    "bmw\t6\tseries\t - удалить series слово\n",
    "bmw\t750i\t\t750i\t21\n",
    "318\tbmw\t750i\t\txdr 750i xdriv\t3\n",
    "319\tbmw\t750li\t\t750li\t14\n",
    "320\tbmw\t750li\t\txdr 750li xdr\t8\n",
    "321\tbmw\t750lxi\t                          ---- изменить на 7\n",
    "chevrolet\tsilverado\t1500 classic\t157 удалить classic\n",
    "chevrolet\tsilverado\t2500hd classic\t\n",
    "chrysler\ttown\tand country - удалить country\n",
    "dodge\tgrand\tcaravan\t - добавить caravan и удалить\n",
    "ford\tf-150\theritage\t -удалить\n",
    "ДОБАВИТЬ -\n",
    "gmc\tsierra\t1500 classic - удалить classic\n",
    "xj-series\t\t125 - удалить series\n",
    "jaguar\txk-series\t\n",
    "land rover\tdiscovery\tseries ii\t - удалить\n",
    "land rover\trange\trover\t303\n",
    "482\tland rover\trange\trover evoque\t115\n",
    "483\tland rover\trange\trover sport\t579\n",
    "exus\tis\tf\t28 - удалить\n",
    "mercedes-benz\n",
    "\n",
    "suzuki\txl-7\t\t65\n",
    "suzuki\txl7\t\t115\n",
    "toyota\tland\tcruiser\n",
    "volkswagen\tnew\tbeetle\n",
    "volkswagen\ttouareg\t2\t\n",
    "volkswagen\tgli\t\t56 ?????\n",
    "volkswagen\tgti\t\t340 ?????\n",
    "volkswagen\ttouareg\t2\t33\n",
    "\n",
    "59\tvolvo\txc\t\t22 - посмотреть что там/удалить"
   ]
  },
  {
   "cell_type": "code",
   "execution_count": null,
   "id": "ea708f14",
   "metadata": {},
   "outputs": [],
   "source": []
  },
  {
   "cell_type": "code",
   "execution_count": null,
   "id": "ce911c33",
   "metadata": {},
   "outputs": [],
   "source": [
    "# # удаление пропущенных значений:\n",
    "# drop_na(df_test, ['make', 'model', 'trim', 'condition', 'odometer'])\n",
    "\n",
    "# # заполнение пропущенных значений цвета кузова и интерьера на `unknown`        \n",
    "# fill_color_interior(df_test, columns=['color', 'interior'])\n",
    "# # проверка\n",
    "# print('Количество пропусков в цвете кузова:', df['color'].isna().sum()) \n",
    "# print('Количество пропусков в цвете интерьера:', df['interior'].isna().sum())\n",
    "\n",
    "\n",
    "# # изменение типа колонки `saledate`:   \n",
    "# upgrade_saledate(df_test)\n",
    "\n",
    "\n",
    "# # создадим новый признак \"количество лет\" автомобилю:   \n",
    "# year_count(df_test)\n",
    "\n",
    "\n",
    "# # преобразование марки автомобиля `make`:\n",
    "# upgrade_make(df_test, 'make')\n",
    "# # проверка:\n",
    "# print(sorted(df_test['make'].unique()))\n",
    "\n",
    "\n",
    "# # удаление всех слов в модели, кроме первого:\n",
    "# df_test['model'] = df_test['model'].apply(upgrade_model)\n",
    "\n",
    "\n",
    "# # функция удаления строк, где количество моделей меньше 25:\n",
    "# before_conversion_test = df_test['model'].nunique()\n",
    "# df_test = remove_model(df_test)\n",
    "\n",
    "# print('Количество уникальных моделей до преобразования:', \n",
    "#       before_conversion_test)\n",
    "# print(60*'-')\n",
    "# print('Количество уникальных моделей до преобразования:', \n",
    "#       df_test['model'].nunique())\n",
    "\n",
    "\n",
    "# # изменение вариации типов кузова на стандартные названия:\n",
    "# count_unique_body = df_test['body'].nunique()\n",
    "# df_test['body'] = df_test['body'].str.lower().astype(str)\n",
    "# df_test['body'] = df_test['body'].apply(upgrade_body)\n",
    "\n",
    "# print('Количество уникальных кузовов до преобразования:',\n",
    "#       count_unique_body)\n",
    "# print(60*'-')\n",
    "# print('Количество уникальных кузовов после преобразования:',\n",
    "#       df_test['body'].nunique())\n",
    "\n",
    "# print(df_test['body'].unique())\n",
    "\n",
    "\n",
    "# # заполнение пропущенных значений кузова модой:\n",
    "# fill_drop_body(df_test)\n",
    "# # проверка:\n",
    "# print(df_test['body'].value_counts())\n",
    "\n",
    "\n",
    "# # заполнение пропущенных значений `transmission` модой:\n",
    "# fill_drop_transmission(df_test)\n",
    "\n",
    "# first = df_test.query('odometer > 190000')['year'].count()\n",
    "# second = df_test.query('odometer < 50')['year'].count()\n",
    "# shape_first = df.shape[0]\n",
    "\n",
    "\n",
    "# # удаление выбросов в 'odometer':\n",
    "# drop_odometr(df_test)\n",
    "# # проверка:\n",
    "# print(f'Проверка: {shape_first - first - second == df_test.shape[0]}')\n",
    "\n",
    "\n",
    "# # создание новых признаков:\n",
    "# new_columns(df_test)  \n",
    "\n",
    "# #df_test_kaggle = df_test.copy()\n",
    "# # оптимизация памяти, изменение типов данных:\n",
    "# df_test = memory_usage_optimization(df_test)"
   ]
  },
  {
   "cell_type": "markdown",
   "id": "56733bd5",
   "metadata": {},
   "source": [
    "# Кодировки"
   ]
  },
  {
   "cell_type": "code",
   "execution_count": null,
   "id": "6f666438",
   "metadata": {},
   "outputs": [],
   "source": [
    "# # создадим копии разбитых данных\n",
    "# features_ohe = features.copy()\n",
    "# test_ohe = test.copy()\n",
    "\n",
    "# # создадим OneHotEncoder\n",
    "# encoder = OneHotEncoder(drop='first', handle_unknown='ignore', sparse=False)\n",
    "\n",
    "# # применим OneHotEncoder\n",
    "# encoded_features = encoder.fit_transform(features_ohe[category_columns])\n",
    "# encoded_test = encoder.transform(test_ohe[category_columns])\n",
    "\n",
    "# # создадим df с закодированными признаками\n",
    "# encoded_features_df = pd.DataFrame(encoded_features, \n",
    "#                                    columns=encoder.get_feature_names(category_columns), \n",
    "#                                    index=features_ohe.index)\n",
    "\n",
    "# encoded_test_df = pd.DataFrame(encoded_test, \n",
    "#                                columns=encoder.get_feature_names(category_columns), \n",
    "#                                index=test_ohe.index)\n",
    "\n",
    "# # удалим старые категориальные признаки из тренировочных и тестовых данных\n",
    "# features_ohe.drop(category_columns, axis=1, inplace=True)\n",
    "# test_ohe.drop(category_columns, axis=1, inplace=True)\n",
    "\n",
    "# # объединим закодированные признаки с остальными данными\n",
    "# features_ohe = pd.concat([features_ohe, encoded_features_df], axis=1)\n",
    "# test_ohe = pd.concat([test_ohe, encoded_test_df], axis=1)"
   ]
  },
  {
   "cell_type": "code",
   "execution_count": null,
   "id": "7588dd1d",
   "metadata": {},
   "outputs": [],
   "source": [
    "# features_encoder = features.copy()\n",
    "# #test_encoder = test.copy()\n",
    "\n",
    "# # Создание экземпляра LabelEncoder\n",
    "# encoder = LabelEncoder()\n",
    "\n",
    "# for column in category_columns:\n",
    "#     features_encoder[column] = encoder.fit_transform(features[column])"
   ]
  },
  {
   "cell_type": "markdown",
   "id": "b7a79e71",
   "metadata": {},
   "source": [
    "#### Построим модель `RandomForestRegressor`:"
   ]
  },
  {
   "cell_type": "code",
   "execution_count": null,
   "id": "f78361be",
   "metadata": {},
   "outputs": [],
   "source": [
    "# %%time\n",
    "\n",
    "# parameters = {'max_features' : [6, 8]}\n",
    "#               #'max_depth' : [18, 19]}\n",
    "\n",
    "# rfr = RandomForestRegressor(random_state = 111)\n",
    "\n",
    "# grid_search_rfr = GridSearchCV(rfr, parameters, scoring=mape_scorer, cv=5)\n",
    "\n",
    "# grid_search_rfr.fit(features_encoder, target)"
   ]
  },
  {
   "cell_type": "code",
   "execution_count": null,
   "id": "0282c8d3",
   "metadata": {},
   "outputs": [],
   "source": [
    "# best_params_rfr = grid_search_rfr.best_params_\n",
    "# best_score_rfr = -grid_search_rfr.best_score_\n",
    "# print(f'Гиперпараметры лучшей модели RandomForestRegressor:')\n",
    "# print(best_params_rfr)\n",
    "# print(85 * '-')\n",
    "# print(f'MAPE: {best_score_rfr:.3f}')"
   ]
  },
  {
   "cell_type": "code",
   "execution_count": null,
   "id": "59d50699",
   "metadata": {},
   "outputs": [],
   "source": []
  },
  {
   "cell_type": "code",
   "execution_count": null,
   "id": "7a0717b0",
   "metadata": {},
   "outputs": [],
   "source": []
  }
 ],
 "metadata": {
  "kernelspec": {
   "display_name": "Python 3 (ipykernel)",
   "language": "python",
   "name": "python3"
  },
  "language_info": {
   "codemirror_mode": {
    "name": "ipython",
    "version": 3
   },
   "file_extension": ".py",
   "mimetype": "text/x-python",
   "name": "python",
   "nbconvert_exporter": "python",
   "pygments_lexer": "ipython3",
   "version": "3.9.13"
  },
  "toc": {
   "base_numbering": 1,
   "nav_menu": {},
   "number_sections": true,
   "sideBar": true,
   "skip_h1_title": true,
   "title_cell": "Table of Contents",
   "title_sidebar": "Contents",
   "toc_cell": true,
   "toc_position": {
    "height": "157px",
    "left": "21px",
    "top": "110px",
    "width": "303px"
   },
   "toc_section_display": true,
   "toc_window_display": false
  }
 },
 "nbformat": 4,
 "nbformat_minor": 5
}
